{
 "cells": [
  {
   "cell_type": "markdown",
   "metadata": {},
   "source": [
    "### Notes and scratch pad from Python for Data Analysis, 2nd Edition, Wes McKinney"
   ]
  },
  {
   "cell_type": "markdown",
   "metadata": {},
   "source": [
    "#### Chapter 2"
   ]
  },
  {
   "cell_type": "code",
   "execution_count": 6,
   "metadata": {},
   "outputs": [
    {
     "data": {
      "text/plain": [
       "[<matplotlib.lines.Line2D at 0x7fdd2a316550>]"
      ]
     },
     "execution_count": 6,
     "metadata": {},
     "output_type": "execute_result"
    },
    {
     "data": {
      "image/png": "[encoded data removed]",
      "text/plain": [
       "<Figure size 432x288 with 1 Axes>"
      ]
     },
     "metadata": {
      "needs_background": "light"
     },
     "output_type": "display_data"
    }
   ],
   "source": [
    "%matplotlib inline  # magic function that integrates matplotlib with jupyter\n",
    "\n",
    "import matplotlib.pyplot as plt\n",
    "import numpy as np\n",
    "\n",
    "plt.plot(5,1)"
   ]
  },
  {
   "cell_type": "code",
   "execution_count": 9,
   "metadata": {},
   "outputs": [],
   "source": [
    "def append_element(some_list, element):\n",
    "    some_list.append(element)\n",
    "    \n",
    "data = [1,2,3,4]\n",
    "append_element(data,5)\n",
    "data"
   ]
  },
  {
   "cell_type": "code",
   "execution_count": 11,
   "metadata": {},
   "outputs": [
    {
     "data": {
      "text/plain": [
       "True"
      ]
     },
     "execution_count": 11,
     "metadata": {},
     "output_type": "execute_result"
    }
   ],
   "source": [
    "a = 3.5\n",
    "b = 2\n",
    "isinstance(a,(int,float))"
   ]
  },
  {
   "cell_type": "code",
   "execution_count": 18,
   "metadata": {},
   "outputs": [
    {
     "ename": "NameError",
     "evalue": "name 'x' is not defined",
     "output_type": "error",
     "traceback": [
      "\u001b[0;31m---------------------------------------------------------------------------\u001b[0m",
      "\u001b[0;31mNameError\u001b[0m                                 Traceback (most recent call last)",
      "\u001b[0;32m<ipython-input-18-6a29bb091cf9>\u001b[0m in \u001b[0;36m<module>\u001b[0;34m\u001b[0m\n\u001b[0;32m----> 1\u001b[0;31m \u001b[0;32mif\u001b[0m \u001b[0;32mnot\u001b[0m \u001b[0misinstance\u001b[0m\u001b[0;34m(\u001b[0m\u001b[0mx\u001b[0m\u001b[0;34m,\u001b[0m\u001b[0mlist\u001b[0m\u001b[0;34m)\u001b[0m \u001b[0;32mand\u001b[0m \u001b[0misiterable\u001b[0m\u001b[0;34m(\u001b[0m\u001b[0mx\u001b[0m\u001b[0;34m)\u001b[0m\u001b[0;34m:\u001b[0m\u001b[0;34m\u001b[0m\u001b[0;34m\u001b[0m\u001b[0m\n\u001b[0m\u001b[1;32m      2\u001b[0m     \u001b[0mx\u001b[0m \u001b[0;34m=\u001b[0m \u001b[0mlist\u001b[0m\u001b[0;34m(\u001b[0m\u001b[0mx\u001b[0m\u001b[0;34m)\u001b[0m\u001b[0;34m\u001b[0m\u001b[0;34m\u001b[0m\u001b[0m\n",
      "\u001b[0;31mNameError\u001b[0m: name 'x' is not defined"
     ]
    }
   ],
   "source": [
    "def isiterable(obj):\n",
    "    try:\n",
    "        iter(obj)\n",
    "        return True\n",
    "    except TypeError:\n",
    "        return False\n",
    "\n",
    "# if x is not a list, but is iterable, convert it to a list\n",
    "if not isinstance(x,list) and isiterable(x):\n",
    "    x = list(x)"
   ]
  },
  {
   "cell_type": "code",
   "execution_count": 19,
   "metadata": {},
   "outputs": [
    {
     "data": {
      "text/plain": [
       "True"
      ]
     },
     "execution_count": 19,
     "metadata": {},
     "output_type": "execute_result"
    }
   ],
   "source": [
    "a = [1,2,3]\n",
    "b = a   # reference to same object\n",
    "a is b  # are they the same object?"
   ]
  },
  {
   "cell_type": "code",
   "execution_count": 20,
   "metadata": {},
   "outputs": [
    {
     "data": {
      "text/plain": [
       "False"
      ]
     },
     "execution_count": 20,
     "metadata": {},
     "output_type": "execute_result"
    }
   ],
   "source": [
    "c = list(a)  # creates a copy of the object and puts it into a list\n",
    "c is a       # are they the same object?"
   ]
  },
  {
   "cell_type": "code",
   "execution_count": 21,
   "metadata": {},
   "outputs": [
    {
     "data": {
      "text/plain": [
       "True"
      ]
     },
     "execution_count": 21,
     "metadata": {},
     "output_type": "execute_result"
    }
   ],
   "source": [
    "c == a      # are their contents equal?"
   ]
  },
  {
   "cell_type": "code",
   "execution_count": 23,
   "metadata": {},
   "outputs": [
    {
     "data": {
      "text/plain": [
       "'67.12 Canadian dollars are worth US $30'"
      ]
     },
     "execution_count": 23,
     "metadata": {},
     "output_type": "execute_result"
    }
   ],
   "source": [
    "#format arg0 as a float with 2 decimal places, \n",
    "#arg1 as a string, arg2 as an integer\n",
    "template = '{0:.2f} {1:s} are worth US ${2:d}' \n",
    "template.format(67.123,'Canadian dollars',30)"
   ]
  },
  {
   "cell_type": "code",
   "execution_count": 25,
   "metadata": {},
   "outputs": [
    {
     "data": {
      "text/plain": [
       "'non-negative'"
      ]
     },
     "execution_count": 25,
     "metadata": {},
     "output_type": "execute_result"
    }
   ],
   "source": [
    "x = 5\n",
    "'non-negative' if x >=0 else 'negative'"
   ]
  },
  {
   "cell_type": "markdown",
   "metadata": {},
   "source": [
    "### Chapter 3, data structures: tuples\n",
    "Tuples and lists are semantically similar. Tuples use parantheses and lists use square brackets. The difference is that tuples are immutable. Their individual member objects may be mutable and therefore may be mutated; but the membership reference is immutable. Thus, tuples are simpler in use and much more limited in what methods may be called on them."
   ]
  },
  {
   "cell_type": "code",
   "execution_count": 26,
   "metadata": {},
   "outputs": [
    {
     "data": {
      "text/plain": [
       "False"
      ]
     },
     "execution_count": 26,
     "metadata": {},
     "output_type": "execute_result"
    }
   ],
   "source": [
    "tup = (1,2,3) # this is a tuple\n",
    "tup2 = tuple([1,2,3])  # this converts the list (or iterator) into a tuple\n",
    "tup is tup2"
   ]
  },
  {
   "cell_type": "code",
   "execution_count": 27,
   "metadata": {},
   "outputs": [
    {
     "data": {
      "text/plain": [
       "True"
      ]
     },
     "execution_count": 27,
     "metadata": {},
     "output_type": "execute_result"
    }
   ],
   "source": [
    "tup == tup2"
   ]
  },
  {
   "cell_type": "code",
   "execution_count": 28,
   "metadata": {},
   "outputs": [
    {
     "data": {
      "text/plain": [
       "1"
      ]
     },
     "execution_count": 28,
     "metadata": {},
     "output_type": "execute_result"
    }
   ],
   "source": [
    "values = 1,2,3,4,5\n",
    "a,b,*everything_else = values # conventional variable name is _ as in a,b,*_ = values\n",
    "a"
   ]
  },
  {
   "cell_type": "code",
   "execution_count": 29,
   "metadata": {},
   "outputs": [
    {
     "data": {
      "text/plain": [
       "2"
      ]
     },
     "execution_count": 29,
     "metadata": {},
     "output_type": "execute_result"
    }
   ],
   "source": [
    "b"
   ]
  },
  {
   "cell_type": "code",
   "execution_count": 30,
   "metadata": {},
   "outputs": [
    {
     "data": {
      "text/plain": [
       "[3, 4, 5]"
      ]
     },
     "execution_count": 30,
     "metadata": {},
     "output_type": "execute_result"
    }
   ],
   "source": [
    "everything_else"
   ]
  },
  {
   "cell_type": "code",
   "execution_count": 31,
   "metadata": {},
   "outputs": [
    {
     "data": {
      "text/plain": [
       "3"
      ]
     },
     "execution_count": 31,
     "metadata": {},
     "output_type": "execute_result"
    }
   ],
   "source": [
    "replist = (1,2,3,1,2,1,0)\n",
    "replist.count(1)"
   ]
  },
  {
   "cell_type": "code",
   "execution_count": 32,
   "metadata": {},
   "outputs": [
    {
     "data": {
      "text/plain": [
       "2"
      ]
     },
     "execution_count": 32,
     "metadata": {},
     "output_type": "execute_result"
    }
   ],
   "source": [
    "replist.count(2)"
   ]
  },
  {
   "cell_type": "markdown",
   "metadata": {},
   "source": [
    "### Lists\n",
    "Lists are often used to materialize iterators or generators"
   ]
  },
  {
   "cell_type": "code",
   "execution_count": 37,
   "metadata": {},
   "outputs": [
    {
     "data": {
      "text/plain": [
       "[0, 1, 2, 3, 4]"
      ]
     },
     "execution_count": 37,
     "metadata": {},
     "output_type": "execute_result"
    }
   ],
   "source": [
    "a = range(5)\n",
    "list(a)\n",
    "#tuple(a)"
   ]
  },
  {
   "cell_type": "code",
   "execution_count": 48,
   "metadata": {},
   "outputs": [
    {
     "data": {
      "text/plain": [
       "[0, 1, 2, 3, 4, 5]"
      ]
     },
     "execution_count": 48,
     "metadata": {},
     "output_type": "execute_result"
    }
   ],
   "source": [
    "b = list(a)\n",
    "b.append(5)\n",
    "b"
   ]
  },
  {
   "cell_type": "code",
   "execution_count": 49,
   "metadata": {},
   "outputs": [
    {
     "data": {
      "text/plain": [
       "3"
      ]
     },
     "execution_count": 49,
     "metadata": {},
     "output_type": "execute_result"
    }
   ],
   "source": [
    "b.pop(3)"
   ]
  },
  {
   "cell_type": "code",
   "execution_count": 50,
   "metadata": {},
   "outputs": [
    {
     "data": {
      "text/plain": [
       "[0, 1, 2, 4, 5]"
      ]
     },
     "execution_count": 50,
     "metadata": {},
     "output_type": "execute_result"
    }
   ],
   "source": [
    "b"
   ]
  },
  {
   "cell_type": "code",
   "execution_count": 51,
   "metadata": {},
   "outputs": [
    {
     "data": {
      "text/plain": [
       "[0, 1, 2, 'red balloon', 4, 5]"
      ]
     },
     "execution_count": 51,
     "metadata": {},
     "output_type": "execute_result"
    }
   ],
   "source": [
    "b.insert(3,'red balloon')\n",
    "b"
   ]
  },
  {
   "cell_type": "code",
   "execution_count": 52,
   "metadata": {},
   "outputs": [
    {
     "data": {
      "text/plain": [
       "True"
      ]
     },
     "execution_count": 52,
     "metadata": {},
     "output_type": "execute_result"
    }
   ],
   "source": [
    "2 in b  # this is more expensive in lists that in dicts"
   ]
  },
  {
   "cell_type": "code",
   "execution_count": 53,
   "metadata": {},
   "outputs": [
    {
     "data": {
      "text/plain": [
       "False"
      ]
     },
     "execution_count": 53,
     "metadata": {},
     "output_type": "execute_result"
    }
   ],
   "source": [
    "2 not in b"
   ]
  },
  {
   "cell_type": "code",
   "execution_count": 54,
   "metadata": {},
   "outputs": [
    {
     "data": {
      "text/plain": [
       "[0, 1, 2, 'red balloon', 4, 5, 2]"
      ]
     },
     "execution_count": 54,
     "metadata": {},
     "output_type": "execute_result"
    }
   ],
   "source": [
    "b.append(2)\n",
    "b"
   ]
  },
  {
   "cell_type": "code",
   "execution_count": 55,
   "metadata": {},
   "outputs": [
    {
     "data": {
      "text/plain": [
       "[0, 1, 'red balloon', 4, 5, 2]"
      ]
     },
     "execution_count": 55,
     "metadata": {},
     "output_type": "execute_result"
    }
   ],
   "source": [
    "b.remove(2)  # removes the first instance of the value 2\n",
    "b"
   ]
  },
  {
   "cell_type": "code",
   "execution_count": 56,
   "metadata": {},
   "outputs": [
    {
     "data": {
      "text/plain": [
       "[0, 1, 'red balloon', 4, 5, 2, 0, 1, 'red balloon', 4, 5, 2]"
      ]
     },
     "execution_count": 56,
     "metadata": {},
     "output_type": "execute_result"
    }
   ],
   "source": [
    "b + b  # this concatenates a copy of b onto b"
   ]
  },
  {
   "cell_type": "code",
   "execution_count": 58,
   "metadata": {},
   "outputs": [
    {
     "data": {
      "text/plain": [
       "[0,\n",
       " 1,\n",
       " 'red balloon',\n",
       " 4,\n",
       " 5,\n",
       " 2,\n",
       " 0,\n",
       " 1,\n",
       " 'red balloon',\n",
       " 4,\n",
       " 5,\n",
       " 2,\n",
       " 0,\n",
       " 1,\n",
       " 'red balloon',\n",
       " 4,\n",
       " 5,\n",
       " 2,\n",
       " 0,\n",
       " 1,\n",
       " 'red balloon',\n",
       " 4,\n",
       " 5,\n",
       " 2]"
      ]
     },
     "execution_count": 58,
     "metadata": {},
     "output_type": "execute_result"
    }
   ],
   "source": [
    "b.extend(b)  # this also concatenates a copy of b onto b, but is more efficient. use this.\n",
    "b"
   ]
  },
  {
   "cell_type": "code",
   "execution_count": 64,
   "metadata": {},
   "outputs": [
    {
     "data": {
      "text/plain": [
       "['abc', 'bc', 'c']"
      ]
     },
     "execution_count": 64,
     "metadata": {},
     "output_type": "execute_result"
    }
   ],
   "source": [
    "c = ['abc','bc','c']  # sorts by the default function; here, alphabetically\n",
    "c.sort()\n",
    "c"
   ]
  },
  {
   "cell_type": "code",
   "execution_count": 65,
   "metadata": {},
   "outputs": [
    {
     "data": {
      "text/plain": [
       "['c', 'bc', 'abc']"
      ]
     },
     "execution_count": 65,
     "metadata": {},
     "output_type": "execute_result"
    }
   ],
   "source": [
    "c.sort(key=len)  # sorts by a different function; here, length\n",
    "c"
   ]
  },
  {
   "cell_type": "code",
   "execution_count": 79,
   "metadata": {},
   "outputs": [
    {
     "data": {
      "text/plain": [
       "['a', 'c', 'r', 's', 't', 'y']"
      ]
     },
     "execution_count": 79,
     "metadata": {},
     "output_type": "execute_result"
    }
   ],
   "source": [
    "# to capture an index alongside a list, use the enumerate function\n",
    "tracy = ['t','r','a','c','y']\n",
    "mapping = {} # creating a dict\n",
    "for (i,value) in enumerate(tracy):\n",
    "    mapping[value] = i\n",
    "mapping['a'] # where did the value 'a' appear in the list?\n",
    "\n",
    "sorted(tracy)\n",
    "\n",
    "import bisect\n",
    "stracy = sorted(tracy)  # sorted(list) returns a sorted copy of the list\n",
    "bisect.bisect(stracy,'d')  # where would 'd' be inserted to keep the list sorted?\n",
    "stracy\n",
    "bisect.insort(stracy,'s')  # go ahead and insert 's' in the right place\n",
    "stracy"
   ]
  },
  {
   "cell_type": "code",
   "execution_count": 92,
   "metadata": {},
   "outputs": [
    {
     "data": {
      "text/plain": [
       "[('t', 'f'), ('r', 'r'), ('a', 'a'), ('c', 'n'), ('y', 'k')]"
      ]
     },
     "execution_count": 92,
     "metadata": {},
     "output_type": "execute_result"
    }
   ],
   "source": [
    "tracy = ['t','r','a','c','y']\n",
    "frank = ['f','r','a','n','k']\n",
    "trank = zip(tracy,frank)  # let's zip those two crazy kids together\n",
    "trank = list(trank)\n",
    "trank"
   ]
  },
  {
   "cell_type": "code",
   "execution_count": 91,
   "metadata": {},
   "outputs": [
    {
     "data": {
      "text/plain": [
       "('f', 'r', 'a', 'n', 'k')"
      ]
     },
     "execution_count": 91,
     "metadata": {},
     "output_type": "execute_result"
    }
   ],
   "source": [
    "me,him = zip(*trank)   # let's unzip that list and pull all the first elements back out\n",
    "me\n",
    "him"
   ]
  },
  {
   "cell_type": "code",
   "execution_count": 94,
   "metadata": {},
   "outputs": [
    {
     "name": "stdout",
     "output_type": "stream",
     "text": [
      "0: t, f\n",
      "1: r, r\n",
      "2: a, a\n",
      "3: c, n\n",
      "4: y, k\n"
     ]
    }
   ],
   "source": [
    "# two great tastes that taste great together (think data formatting)\n",
    "for i,(a,b) in enumerate(zip(tracy,frank)):\n",
    "    print('{0}: {1}, {2}'.format(i,a,b))"
   ]
  },
  {
   "cell_type": "markdown",
   "metadata": {},
   "source": [
    "### dicts - hashtables"
   ]
  },
  {
   "cell_type": "code",
   "execution_count": 43,
   "metadata": {},
   "outputs": [
    {
     "data": {
      "text/plain": [
       "{('t', 'r', 'a', 'c', 'y')}"
      ]
     },
     "execution_count": 43,
     "metadata": {},
     "output_type": "execute_result"
    }
   ],
   "source": [
    "empty_dict = {}     # you can make an empty dict to populate later\n",
    "d1 = {1:'a',2:'b'}  # you can create one with curly braces and colons\n",
    "d1[7]='c'           # you can assign a new value to a new or existing key\n",
    "del d1[7]           # remove by key\n",
    "d1.pop(1)           # another way to remove by key, and return value\n",
    "d2 = {4:'t',6:'r'} \n",
    "d1.update(d2)       # appending one dict's entries to another dict\n",
    "d1.update({4:'s'})  # but watch out because repeated keys will get overwritten\n",
    "d1\n",
    "\n",
    "tracy = ('t','r','a','c','y')\n",
    "frank = ('f','r','a','n','k')\n",
    "trank = zip(tracy,frank)\n",
    "list(trank)\n",
    "\n",
    "# one way to create a dict from two lists\n",
    "mapping = {}\n",
    "for key,value in zip(tracy,frank):\n",
    "    mapping[key] = value\n",
    "\n",
    "# another way\n",
    "mapping = dict(zip(tracy,frank))   # you can use the dict() function with a list of 2-tuples\n",
    "mapping\n",
    "\n",
    "# return a value or a default value\n",
    "val = mapping.get('q','z')  # get the value associated with the key 'q', or return 'z'\n",
    "val\n",
    "\n",
    "# creating a dict from a default rule\n",
    "# ie, creating a dict of words where the key is the first letter and the value is the\n",
    "# list of words\n",
    "\n",
    "# 3 ways - the Python long way that works\n",
    "words = ('a','as','apple','bee','bat')\n",
    "by_letters = {}\n",
    "for word in words:\n",
    "    letter = word[0]\n",
    "    if letter not in by_letters:\n",
    "        by_letters[letter] = [word]\n",
    "    else:\n",
    "        by_letters[letter].append(word)\n",
    "\n",
    "# another way - using the setdefault dict method\n",
    "for word in words:\n",
    "    letter = word[0]\n",
    "    by_letters.setdefault(letter,[]).append(word)\n",
    "    \n",
    "# one more way using a class from the collections module\n",
    "from collections import defaultdict\n",
    "by_letters = defaultdict(list)\n",
    "for word in words:\n",
    "    by_letters[word[0]].append(word)\n",
    "by_letters\n",
    "\n",
    "# keys must be immutable, so if you have a list, convert it to a tuple first\n",
    "#tracy = {['t','r','a','c','y']} # doesn't work!\n",
    "tracy = {tuple(['t','r','a','c','y'])} \n",
    "tracy\n",
    "\n"
   ]
  },
  {
   "cell_type": "markdown",
   "metadata": {},
   "source": [
    "### Sets and set functions\n",
    "\n",
    "Sets are unique, non-ordered sets of values, denoted by a comma-separated list inside curly braces"
   ]
  },
  {
   "cell_type": "code",
   "execution_count": 54,
   "metadata": {},
   "outputs": [],
   "source": [
    "set1 = {1,2,2,2,3}\n",
    "set1\n",
    "set2 = {3,4,4,4,5}\n",
    "set2\n",
    "set1 & set2\n",
    "set1 | set2\n",
    "set1 ^ set2\n",
    "set1 - set2\n",
    "set1.add(4)\n",
    "set1.remove(2)"
   ]
  },
  {
   "cell_type": "markdown",
   "metadata": {},
   "source": [
    "### Comprehensions - filtering and defining lists, sets, dicts in one line"
   ]
  },
  {
   "cell_type": "code",
   "execution_count": 73,
   "metadata": {},
   "outputs": [
    {
     "data": {
      "text/plain": [
       "[[1, 2, 3], [4, 5, 6], [7, 8, 9]]"
      ]
     },
     "execution_count": 73,
     "metadata": {},
     "output_type": "execute_result"
    }
   ],
   "source": [
    "# example: convert words to uppercase if they are at least 2 letters long\n",
    "# this is a LIST COMPREHENSION because it makes a list\n",
    "words = {'a','as','apple','bee','bat'}\n",
    "lc = [word.upper() for word in words if len(word)>2]\n",
    "lc\n",
    "\n",
    "# let's make a dict comprehension\n",
    "dc = {word[0] : word for word in words if len(word)>2}  # note this doesn't make a list of words as a value, just the latest one\n",
    "dc\n",
    "\n",
    "# set comprehension is like a list comprehension but creates a set\n",
    "words = ['a','as','apple','apple','bee','bat']\n",
    "lc = [word.upper() for word in words if len(word)>2]\n",
    "lc  # this gives you duplicates of APPLE because it's a list\n",
    "sc = {word.upper() for word in words if len(word)>2}\n",
    "sc  # this gives you one APPLE because it's a set\n",
    "\n",
    "# we can go nuts with it...\n",
    "# two lists of names, together in a list\n",
    "names1 = ['tracy','frank']\n",
    "names2 = ['jonas','trey','kit']\n",
    "family = [names1,names2]\n",
    "family\n",
    "# let's make a list of all names with 'r' in them\n",
    "r_names = []\n",
    "for groups in family:\n",
    "    r_people = [name for name in groups if name.count('r')>=1]\n",
    "    r_names.extend(r_people)\n",
    "r_names\n",
    "\n",
    "# a crazy one-liner version!\n",
    "# this says...\n",
    "# for groups in family, for name in groups, if name has an 'r', then it's part of the list\n",
    "\n",
    "r_names = [name for groups in family for name in groups if name.count('r')>=1 ]\n",
    "r_names\n",
    "\n",
    "short_names = [name for groups in family for name in groups if len(name)<5]\n",
    "short_names\n",
    "\n",
    "# you can use this idea to \"flatten\" a list of lists or tuples, eg\n",
    "some_tuples = [(1,2,3),(4,5,6),(7,8,9)]\n",
    "[x for tuple in some_tuples for x in tuple]\n",
    "# just think of it as taking the expanded form of nested for and if statements,\n",
    "# and collapsing them onto a single line\n",
    "\n",
    "# you can also use a comprehension inside a comprehension, eg\n",
    "[[x for x in tuple] for tuple in some_tuples]\n",
    "# this produces a tuple of tuples rather than a flattened tuple of lists as before"
   ]
  },
  {
   "cell_type": "markdown",
   "metadata": {},
   "source": [
    "### functions as objects\n",
    "Treating functions as objects means you can use them as arguments in a couple handy ways"
   ]
  },
  {
   "cell_type": "code",
   "execution_count": 76,
   "metadata": {},
   "outputs": [
    {
     "data": {
      "text/plain": [
       "['Tracy', 'Frank', 'Trey']"
      ]
     },
     "execution_count": 76,
     "metadata": {},
     "output_type": "execute_result"
    }
   ],
   "source": [
    "# say we want to apply a series of cleaning operations to a list of strings (like\n",
    "# user input data)\n",
    "clean_op1 = str.strip # removes whitespace\n",
    "clean_op2 = str.title # capitalizes the first letter and lowercases the rest\n",
    "\n",
    "import re\n",
    "# now we want to build a custom function that removes !, #, and ? from the string\n",
    "def remove_punctuation(value):\n",
    "    return re.sub('[!#?]','',value)\n",
    "\n",
    "clean_op3 = remove_punctuation\n",
    "clean_ops = [clean_op1, clean_op2, clean_op3]\n",
    "\n",
    "# let's write a function that applies a list of cleaning operatinos to a set of strings\n",
    "def clean_strings(strings,ops):\n",
    "    result = []\n",
    "    for value in strings:\n",
    "        for function in ops:\n",
    "            value = function(value)\n",
    "        result.append(value)\n",
    "    return result\n",
    "\n",
    "sample_strings = ['tracy?','  frank!   ','TREY']\n",
    "clean_strings(sample_strings,clean_ops)\n"
   ]
  },
  {
   "cell_type": "markdown",
   "metadata": {},
   "source": [
    "### Lambda (anonymous) functions"
   ]
  },
  {
   "cell_type": "code",
   "execution_count": 80,
   "metadata": {},
   "outputs": [
    {
     "data": {
      "text/plain": [
       "['aaaa', 'bbaabbaabbaa', 'abc', 'tracy']"
      ]
     },
     "execution_count": 80,
     "metadata": {},
     "output_type": "execute_result"
    }
   ],
   "source": [
    "def short_function(x):\n",
    "    return x*2\n",
    "\n",
    "equiv_lambda = lambda x: x*2\n",
    "\n",
    "# you can use these to pass a short function to another function, or to define\n",
    "# a custom sort function, etc\n",
    "\n",
    "# custom sort function - say you wanted to sort a list of strings by the number\n",
    "# of distinct letters in each string\n",
    "# then you want to sort by len(set(list(word)))\n",
    "# you can pass that function to the sort operator:\n",
    "words = ['aaaa','tracy','abc','bbaabbaabbaa']\n",
    "words.sort(key=lambda x:len(set(list(x))))\n",
    "words"
   ]
  },
  {
   "cell_type": "markdown",
   "metadata": {},
   "source": [
    "### Generators create a list one element at a time"
   ]
  },
  {
   "cell_type": "code",
   "execution_count": 81,
   "metadata": {},
   "outputs": [
    {
     "name": "stdout",
     "output_type": "stream",
     "text": [
      "Generating squares:\n",
      "1 4 9 16 25 36 49 64 81 100 "
     ]
    }
   ],
   "source": [
    "def squares(n=10):\n",
    "    print('Generating squares:')\n",
    "    for i in range(1,n+1):\n",
    "        yield i**2\n",
    "\n",
    "gen = squares()   # this just defines gen but does not call the function\n",
    "\n",
    "# you have to request elements from gen for it to start working, like this:\n",
    "for n in gen:\n",
    "    print(n,end=' ')\n"
   ]
  },
  {
   "cell_type": "code",
   "execution_count": 87,
   "metadata": {},
   "outputs": [
    {
     "name": "stdout",
     "output_type": "stream",
     "text": [
      "0  \n",
      "1  \n",
      "4  \n",
      "9  \n",
      "16  \n",
      "25  \n",
      "36  \n",
      "49  \n",
      "64  \n",
      "81  \n"
     ]
    },
    {
     "data": {
      "text/plain": [
       "{1: 1, 2: 4, 3: 9, 4: 16, 5: 25, 6: 36, 7: 49, 8: 64, 9: 81, 10: 100}"
      ]
     },
     "execution_count": 87,
     "metadata": {},
     "output_type": "execute_result"
    }
   ],
   "source": [
    "# you can also use a generator expression, like:\n",
    "gen = (x**2 for x in range(10))\n",
    "for y in gen:\n",
    "    print(y,' ')\n",
    "\n",
    "sumsquares = sum(i**2 for i in range(10))\n",
    "sumsquares\n",
    "dict((i,i**2) for i in range(1,11))  # constructing a dict by generating a list of 2-tuples"
   ]
  },
  {
   "cell_type": "markdown",
   "metadata": {},
   "source": [
    "### Exception Handling"
   ]
  },
  {
   "cell_type": "code",
   "execution_count": 89,
   "metadata": {},
   "outputs": [],
   "source": [
    "# catch exceptions and/or do stuff regardless\n",
    "try:\n",
    "    #the stuff you are going to try\n",
    "    pass\n",
    "except:\n",
    "    #catches any exception. to specify exception types, use a comma separated list\n",
    "    #as in except (Type1, Type2)\n",
    "    pass\n",
    "else:\n",
    "    #what if there were no exceptions? then do this stuff\n",
    "    pass\n",
    "finally:\n",
    "    #regardless, do this stuff\n",
    "    #like closing a file if you've opened it\n",
    "    pass"
   ]
  },
  {
   "cell_type": "markdown",
   "metadata": {},
   "source": [
    "### Files in Python"
   ]
  },
  {
   "cell_type": "code",
   "execution_count": 1,
   "metadata": {},
   "outputs": [
    {
     "ename": "FileNotFoundError",
     "evalue": "[Errno 2] No such file or directory: '/dir/to/file.txt'",
     "output_type": "error",
     "traceback": [
      "\u001b[0;31m---------------------------------------------------------------------------\u001b[0m",
      "\u001b[0;31mFileNotFoundError\u001b[0m                         Traceback (most recent call last)",
      "\u001b[0;32m<ipython-input-1-f8cc850e75ae>\u001b[0m in \u001b[0;36m<module>\u001b[0;34m\u001b[0m\n\u001b[1;32m      2\u001b[0m \u001b[0;31m# use the 'with' command to ensure the file is closed after being used\u001b[0m\u001b[0;34m\u001b[0m\u001b[0;34m\u001b[0m\u001b[0;34m\u001b[0m\u001b[0m\n\u001b[1;32m      3\u001b[0m \u001b[0mpath\u001b[0m \u001b[0;34m=\u001b[0m \u001b[0;34m'/dir/to/file.txt'\u001b[0m\u001b[0;34m\u001b[0m\u001b[0;34m\u001b[0m\u001b[0m\n\u001b[0;32m----> 4\u001b[0;31m \u001b[0;32mwith\u001b[0m \u001b[0mopen\u001b[0m\u001b[0;34m(\u001b[0m\u001b[0mpath\u001b[0m\u001b[0;34m)\u001b[0m \u001b[0;32mas\u001b[0m \u001b[0mfile\u001b[0m\u001b[0;34m:\u001b[0m\u001b[0;34m\u001b[0m\u001b[0;34m\u001b[0m\u001b[0m\n\u001b[0m\u001b[1;32m      5\u001b[0m     \u001b[0mlines\u001b[0m \u001b[0;34m=\u001b[0m \u001b[0;34m[\u001b[0m\u001b[0mlines\u001b[0m\u001b[0;34m.\u001b[0m\u001b[0mrstrip\u001b[0m\u001b[0;34m(\u001b[0m\u001b[0;34m)\u001b[0m \u001b[0;32mfor\u001b[0m \u001b[0mline\u001b[0m \u001b[0;32min\u001b[0m \u001b[0mfile\u001b[0m\u001b[0;34m]\u001b[0m\u001b[0;34m\u001b[0m\u001b[0;34m\u001b[0m\u001b[0m\n\u001b[1;32m      6\u001b[0m \u001b[0;31m# this gives you a list of the lines in the file, with newline removed, and closes the file\u001b[0m\u001b[0;34m\u001b[0m\u001b[0;34m\u001b[0m\u001b[0;34m\u001b[0m\u001b[0m\n",
      "\u001b[0;31mFileNotFoundError\u001b[0m: [Errno 2] No such file or directory: '/dir/to/file.txt'"
     ]
    }
   ],
   "source": [
    "# easy to open files, default is read-only\n",
    "# use the 'with' command to ensure the file is closed after being used\n",
    "path = '/dir/to/file.txt'\n",
    "with open(path) as file:\n",
    "    lines = [lines.rstrip() for line in file]\n",
    "# this gives you a list of the lines in the file, with newline removed, and closes the file"
   ]
  },
  {
   "cell_type": "code",
   "execution_count": null,
   "metadata": {},
   "outputs": [],
   "source": [
    "# open(path) - opens file read-only\n",
    "# open(path,'w') - creates a new file for writing at that path\n",
    "# open(path,'x') - creates a new file for writing at that path unless it already exists\n",
    "# open(path,'a') - appends to the file\n",
    "# open(path,'r+') - opens for read/write# file = open(path)\n",
    "# file.read(24) - reads 24 characters or bytes if opened with 'rb'\n",
    "# file.tell() - tells you which byte the file handle is sitting at\n",
    "# file.seek(3) - moves to the 3rd byte in the file\n",
    "# file.close()\n",
    "\n",
    "# use 'write' and 'writelines' to write to a file, eg\n",
    "# with open(outfile) as outfile:\n",
    "#     outfile.writelines(line for lines in open(infile) if len(line)>1)"
   ]
  },
  {
   "cell_type": "markdown",
   "metadata": {},
   "source": [
    "### Chapter 4 - NumPy"
   ]
  },
  {
   "cell_type": "code",
   "execution_count": 9,
   "metadata": {},
   "outputs": [
    {
     "data": {
      "text/plain": [
       "dtype('float64')"
      ]
     },
     "execution_count": 9,
     "metadata": {},
     "output_type": "execute_result"
    }
   ],
   "source": [
    "import numpy as np\n",
    "data = np.random.randn(2,3)\n",
    "data * 100\n",
    "data.shape\n",
    "data.dtype"
   ]
  },
  {
   "cell_type": "code",
   "execution_count": 30,
   "metadata": {},
   "outputs": [
    {
     "data": {
      "text/plain": [
       "dtype('float64')"
      ]
     },
     "execution_count": 30,
     "metadata": {},
     "output_type": "execute_result"
    }
   ],
   "source": [
    "# you can convert any list type object to an array\n",
    "mylist = [1,2,4,5,3]\n",
    "myarray = np.array(mylist)\n",
    "\n",
    "# a list of lists becomes a multidimensional array\n",
    "mylist2 = [[1,2,3],[4,5,6]]\n",
    "myarray2 = np.array(mylist2)\n",
    "myarray2.shape # 'rows' by 'columns', if you will\n",
    "myarray2.ndim  # how many dimensions?\n",
    "\n",
    "# special functions\n",
    "np.ones(10)\n",
    "np.ones((2,3))\n",
    "np.ones_like(myarray2)\n",
    "np.zeros(4)\n",
    "np.zeros_like(myarray)\n",
    "np.empty((4,3))\n",
    "count_to_100 = np.arange(100)\n",
    "\n",
    "# converting string data representing numbers, to actual numbers:\n",
    "numstring = ['1.2','3.4','5']\n",
    "numarray = np.array(numstring)\n",
    "numarray.dtype\n",
    "floatarray = numarray.astype(float)\n",
    "floatarray.dtype"
   ]
  },
  {
   "cell_type": "code",
   "execution_count": 42,
   "metadata": {},
   "outputs": [
    {
     "data": {
      "text/plain": [
       "True"
      ]
     },
     "execution_count": 42,
     "metadata": {},
     "output_type": "execute_result"
    }
   ],
   "source": [
    "# indexing and slicing\n",
    "# slicing is similar to Python list slices except that they are NOT copies,\n",
    "# but rather reference the original. example:\n",
    "arr = np.array([1,2,3,4,5,6,7])\n",
    "arr_slice = arr[2:4]\n",
    "arr_slice[:] = 1\n",
    "arr\n",
    "\n",
    "# you can index and slice in many dimensions at once\n",
    "# note: indices in the form [a][b] are equivalent to [a,b]\n",
    "arr2dim = np.array([[1,2,3],[4,5,6]])\n",
    "arr2dim[1][2] == arr2dim[1,2]"
   ]
  },
  {
   "cell_type": "code",
   "execution_count": 74,
   "metadata": {},
   "outputs": [
    {
     "data": {
      "text/plain": [
       "array([[5., 5., 5., 5., 5.],\n",
       "       [5., 5., 5., 5., 5.],\n",
       "       [3., 3., 3., 3., 3.],\n",
       "       [3., 3., 3., 3., 3.],\n",
       "       [3., 3., 3., 3., 3.],\n",
       "       [5., 5., 5., 5., 5.]])"
      ]
     },
     "execution_count": 74,
     "metadata": {},
     "output_type": "execute_result"
    }
   ],
   "source": [
    "# you can use boolean arrays to index data\n",
    "names = np.array(['tracy','frank','trey','jonas','kit','tracy'])\n",
    "names == 'tracy'  # generates an array of boolean data; use this as an index\n",
    "data = np.random.randn(6,5)\n",
    "data[names=='tracy']\n",
    "# same as\n",
    "cond = names=='tracy'\n",
    "data[cond]\n",
    "\n",
    "data[data<0] = 0   # using another boolean array as an index\n",
    "data[names == 'tracy',2:]  # combine boolean indices with slices\n",
    "data[names != 'tracy'] = 3  # using nots in boolean expressions\n",
    "# note you cannot use 'and' or 'or' in boolean arrays, you have to use & or |\n",
    "data[(names=='tracy') | (names=='frank')] = 5\n",
    "data"
   ]
  },
  {
   "cell_type": "code",
   "execution_count": 82,
   "metadata": {},
   "outputs": [
    {
     "data": {
      "text/plain": [
       "array([[2., 2.],\n",
       "       [1., 1.]])"
      ]
     },
     "execution_count": 82,
     "metadata": {},
     "output_type": "execute_result"
    }
   ],
   "source": [
    "# fancy indexing\n",
    "# you can grab rows (or columnns) in a specified order by listing them in the order\n",
    "# you want, comma-separated\n",
    "# arr[1,2] means give me the element at arr[1][2]\n",
    "# but arr[[1,2]] means give me the rows 1 and 2\n",
    "# example\n",
    "arr44 = np.empty((4,4))\n",
    "for i in range(4):\n",
    "    arr44[i] = i\n",
    "arr44\n",
    "# to grab the element at arr44[2][1], i can use:\n",
    "arr44[2,1]\n",
    "# or\n",
    "arr44[2][1]\n",
    "# but to grab the rows 2 and 1 in that order, i can use:\n",
    "arr44[[2,1]]\n",
    "# you can do this in multiple dimensions, and it will zip the entries into tuples, eg\n",
    "# to grab the rows 2 and 1, and from them the entries in col 0 and 2 respectively, do:\n",
    "arr44[[2,1],[0,2]]\n",
    "# you can use slices with either index\n",
    "arr44[[2,1],:2]"
   ]
  },
  {
   "cell_type": "code",
   "execution_count": 87,
   "metadata": {},
   "outputs": [
    {
     "data": {
      "text/plain": [
       "array([[[ 0.34615911,  0.91097707, -0.37619436, -0.46455798],\n",
       "        [-0.69705139,  0.8615842 ,  1.28017283,  0.19260945]],\n",
       "\n",
       "       [[-0.0667617 , -2.41878239, -0.40899126, -1.03365272],\n",
       "        [-0.5855713 , -0.70242485,  1.82868785,  0.28184484]],\n",
       "\n",
       "       [[-1.23394265,  0.85220771,  0.91435125,  2.22319359],\n",
       "        [-0.10239384, -0.98158321, -0.74601724, -0.01914172]]])"
      ]
     },
     "execution_count": 87,
     "metadata": {},
     "output_type": "execute_result"
    }
   ],
   "source": [
    "# reshape & transpose\n",
    "# each array has a .T which is its transpose\n",
    "arr = np.random.randn(2,5)\n",
    "arr.shape\n",
    "arr.T.shape\n",
    "\n",
    "# .T is swapping axes. there is another function 'swapaxes' you can use to complicate things\n",
    "arr.swapaxes(0,1) # gives you the .T function back\n",
    "\n",
    "# you can swapaxes WHILE doing a transpose with the .transpose function\n",
    "arr3 = np.random.randn(2,3,4) #gives you a 2x3x4\n",
    "arr3\n",
    "arr3.transpose(1,0,2) # gives you a 3x2x4"
   ]
  },
  {
   "cell_type": "code",
   "execution_count": null,
   "metadata": {},
   "outputs": [],
   "source": []
  }
 ],
 "metadata": {
  "kernelspec": {
   "display_name": "Python 3",
   "language": "python",
   "name": "python3"
  },
  "language_info": {
   "codemirror_mode": {
    "name": "ipython",
    "version": 3
   },
   "file_extension": ".py",
   "mimetype": "text/x-python",
   "name": "python",
   "nbconvert_exporter": "python",
   "pygments_lexer": "ipython3",
   "version": "3.7.3"
  }
 },
 "nbformat": 4,
 "nbformat_minor": 2
}
