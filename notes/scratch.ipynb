{
 "cells": [
  {
   "cell_type": "markdown",
   "metadata": {},
   "source": [
    "### Notes and scratch pad from Python for Data Analysis, 2nd Edition, Wes McKinney"
   ]
  },
  {
   "cell_type": "markdown",
   "metadata": {},
   "source": [
    "#### Chapter 2"
   ]
  },
  {
   "cell_type": "code",
   "execution_count": null,
   "metadata": {},
   "outputs": [],
   "source": [
    "%matplotlib inline  # magic function that integrates matplotlib with jupyter\n",
    "\n",
    "import matplotlib.pyplot as plt\n",
    "import numpy as np\n",
    "\n",
    "plt.plot(5,1)"
   ]
  },
  {
   "cell_type": "code",
   "execution_count": null,
   "metadata": {},
   "outputs": [],
   "source": [
    "def append_element(some_list, element):\n",
    "    some_list.append(element)\n",
    "    \n",
    "data = [1,2,3,4]\n",
    "append_element(data,5)\n",
    "data"
   ]
  },
  {
   "cell_type": "code",
   "execution_count": null,
   "metadata": {},
   "outputs": [],
   "source": [
    "a = 3.5\n",
    "b = 2\n",
    "isinstance(a,(int,float))"
   ]
  },
  {
   "cell_type": "code",
   "execution_count": null,
   "metadata": {},
   "outputs": [],
   "source": [
    "def isiterable(obj):\n",
    "    try:\n",
    "        iter(obj)\n",
    "        return True\n",
    "    except TypeError:\n",
    "        return False\n",
    "\n",
    "# if x is not a list, but is iterable, convert it to a list\n",
    "if not isinstance(x,list) and isiterable(x):\n",
    "    x = list(x)"
   ]
  },
  {
   "cell_type": "code",
   "execution_count": null,
   "metadata": {},
   "outputs": [],
   "source": [
    "a = [1,2,3]\n",
    "b = a   # reference to same object\n",
    "a is b  # are they the same object?"
   ]
  },
  {
   "cell_type": "code",
   "execution_count": null,
   "metadata": {},
   "outputs": [],
   "source": [
    "c = list(a)  # creates a copy of the object and puts it into a list\n",
    "c is a       # are they the same object?"
   ]
  },
  {
   "cell_type": "code",
   "execution_count": null,
   "metadata": {},
   "outputs": [],
   "source": [
    "c == a      # are their contents equal?"
   ]
  },
  {
   "cell_type": "code",
   "execution_count": null,
   "metadata": {},
   "outputs": [],
   "source": [
    "#format arg0 as a float with 2 decimal places, \n",
    "#arg1 as a string, arg2 as an integer\n",
    "template = '{0:.2f} {1:s} are worth US ${2:d}' \n",
    "template.format(67.123,'Canadian dollars',30)"
   ]
  },
  {
   "cell_type": "code",
   "execution_count": null,
   "metadata": {},
   "outputs": [],
   "source": [
    "x = 5\n",
    "'non-negative' if x >=0 else 'negative'"
   ]
  },
  {
   "cell_type": "markdown",
   "metadata": {},
   "source": [
    "### Chapter 3, data structures: tuples\n",
    "Tuples and lists are semantically similar. Tuples use parantheses and lists use square brackets. The difference is that tuples are immutable. Their individual member objects may be mutable and therefore may be mutated; but the membership reference is immutable. Thus, tuples are simpler in use and much more limited in what methods may be called on them."
   ]
  },
  {
   "cell_type": "code",
   "execution_count": null,
   "metadata": {},
   "outputs": [],
   "source": [
    "tup = (1,2,3) # this is a tuple\n",
    "tup2 = tuple([1,2,3])  # this converts the list (or iterator) into a tuple\n",
    "tup is tup2"
   ]
  },
  {
   "cell_type": "code",
   "execution_count": null,
   "metadata": {},
   "outputs": [],
   "source": [
    "tup == tup2"
   ]
  },
  {
   "cell_type": "code",
   "execution_count": null,
   "metadata": {},
   "outputs": [],
   "source": [
    "values = 1,2,3,4,5\n",
    "a,b,*everything_else = values # conventional variable name is _ as in a,b,*_ = values\n",
    "a"
   ]
  },
  {
   "cell_type": "code",
   "execution_count": null,
   "metadata": {},
   "outputs": [],
   "source": [
    "b"
   ]
  },
  {
   "cell_type": "code",
   "execution_count": null,
   "metadata": {},
   "outputs": [],
   "source": [
    "everything_else"
   ]
  },
  {
   "cell_type": "code",
   "execution_count": null,
   "metadata": {},
   "outputs": [],
   "source": [
    "replist = (1,2,3,1,2,1,0)\n",
    "replist.count(1)"
   ]
  },
  {
   "cell_type": "code",
   "execution_count": null,
   "metadata": {},
   "outputs": [],
   "source": [
    "replist.count(2)"
   ]
  },
  {
   "cell_type": "markdown",
   "metadata": {},
   "source": [
    "### Lists\n",
    "Lists are often used to materialize iterators or generators"
   ]
  },
  {
   "cell_type": "code",
   "execution_count": null,
   "metadata": {},
   "outputs": [],
   "source": [
    "a = range(5)\n",
    "list(a)\n",
    "#tuple(a)"
   ]
  },
  {
   "cell_type": "code",
   "execution_count": null,
   "metadata": {},
   "outputs": [],
   "source": [
    "b = list(a)\n",
    "b.append(5)\n",
    "b"
   ]
  },
  {
   "cell_type": "code",
   "execution_count": null,
   "metadata": {},
   "outputs": [],
   "source": [
    "b.pop(3)"
   ]
  },
  {
   "cell_type": "code",
   "execution_count": null,
   "metadata": {},
   "outputs": [],
   "source": [
    "b"
   ]
  },
  {
   "cell_type": "code",
   "execution_count": null,
   "metadata": {},
   "outputs": [],
   "source": [
    "b.insert(3,'red balloon')\n",
    "b"
   ]
  },
  {
   "cell_type": "code",
   "execution_count": null,
   "metadata": {},
   "outputs": [],
   "source": [
    "2 in b  # this is more expensive in lists that in dicts"
   ]
  },
  {
   "cell_type": "code",
   "execution_count": null,
   "metadata": {},
   "outputs": [],
   "source": [
    "2 not in b"
   ]
  },
  {
   "cell_type": "code",
   "execution_count": null,
   "metadata": {},
   "outputs": [],
   "source": [
    "b.append(2)\n",
    "b"
   ]
  },
  {
   "cell_type": "code",
   "execution_count": null,
   "metadata": {},
   "outputs": [],
   "source": [
    "b.remove(2)  # removes the first instance of the value 2\n",
    "b"
   ]
  },
  {
   "cell_type": "code",
   "execution_count": null,
   "metadata": {},
   "outputs": [],
   "source": [
    "b + b  # this concatenates a copy of b onto b"
   ]
  },
  {
   "cell_type": "code",
   "execution_count": null,
   "metadata": {},
   "outputs": [],
   "source": [
    "b.extend(b)  # this also concatenates a copy of b onto b, but is more efficient. use this.\n",
    "b"
   ]
  },
  {
   "cell_type": "code",
   "execution_count": null,
   "metadata": {},
   "outputs": [],
   "source": [
    "c = ['abc','bc','c']  # sorts by the default function; here, alphabetically\n",
    "c.sort()\n",
    "c"
   ]
  },
  {
   "cell_type": "code",
   "execution_count": null,
   "metadata": {},
   "outputs": [],
   "source": [
    "c.sort(key=len)  # sorts by a different function; here, length\n",
    "c"
   ]
  },
  {
   "cell_type": "code",
   "execution_count": null,
   "metadata": {},
   "outputs": [],
   "source": [
    "# to capture an index alongside a list, use the enumerate function\n",
    "tracy = ['t','r','a','c','y']\n",
    "mapping = {} # creating a dict\n",
    "for (i,value) in enumerate(tracy):\n",
    "    mapping[value] = i\n",
    "mapping['a'] # where did the value 'a' appear in the list?\n",
    "\n",
    "sorted(tracy)\n",
    "\n",
    "import bisect\n",
    "stracy = sorted(tracy)  # sorted(list) returns a sorted copy of the list\n",
    "bisect.bisect(stracy,'d')  # where would 'd' be inserted to keep the list sorted?\n",
    "stracy\n",
    "bisect.insort(stracy,'s')  # go ahead and insert 's' in the right place\n",
    "stracy"
   ]
  },
  {
   "cell_type": "code",
   "execution_count": null,
   "metadata": {},
   "outputs": [],
   "source": [
    "tracy = ['t','r','a','c','y']\n",
    "frank = ['f','r','a','n','k']\n",
    "trank = zip(tracy,frank)  # let's zip those two crazy kids together\n",
    "trank = list(trank)\n",
    "trank"
   ]
  },
  {
   "cell_type": "code",
   "execution_count": null,
   "metadata": {},
   "outputs": [],
   "source": [
    "me,him = zip(*trank)   # let's unzip that list and pull all the first elements back out\n",
    "me\n",
    "him"
   ]
  },
  {
   "cell_type": "code",
   "execution_count": null,
   "metadata": {},
   "outputs": [],
   "source": [
    "# two great tastes that taste great together (think data formatting)\n",
    "for i,(a,b) in enumerate(zip(tracy,frank)):\n",
    "    print('{0}: {1}, {2}'.format(i,a,b))"
   ]
  },
  {
   "cell_type": "markdown",
   "metadata": {},
   "source": [
    "### dicts - hashtables"
   ]
  },
  {
   "cell_type": "code",
   "execution_count": null,
   "metadata": {},
   "outputs": [],
   "source": [
    "empty_dict = {}     # you can make an empty dict to populate later\n",
    "d1 = {1:'a',2:'b'}  # you can create one with curly braces and colons\n",
    "d1[7]='c'           # you can assign a new value to a new or existing key\n",
    "del d1[7]           # remove by key\n",
    "d1.pop(1)           # another way to remove by key, and return value\n",
    "d2 = {4:'t',6:'r'} \n",
    "d1.update(d2)       # appending one dict's entries to another dict\n",
    "d1.update({4:'s'})  # but watch out because repeated keys will get overwritten\n",
    "d1\n",
    "\n",
    "tracy = ('t','r','a','c','y')\n",
    "frank = ('f','r','a','n','k')\n",
    "trank = zip(tracy,frank)\n",
    "list(trank)\n",
    "\n",
    "# one way to create a dict from two lists\n",
    "mapping = {}\n",
    "for key,value in zip(tracy,frank):\n",
    "    mapping[key] = value\n",
    "\n",
    "# another way\n",
    "mapping = dict(zip(tracy,frank))   # you can use the dict() function with a list of 2-tuples\n",
    "mapping\n",
    "\n",
    "# return a value or a default value\n",
    "val = mapping.get('q','z')  # get the value associated with the key 'q', or return 'z'\n",
    "val\n",
    "\n",
    "# creating a dict from a default rule\n",
    "# ie, creating a dict of words where the key is the first letter and the value is the\n",
    "# list of words\n",
    "\n",
    "# 3 ways - the Python long way that works\n",
    "words = ('a','as','apple','bee','bat')\n",
    "by_letters = {}\n",
    "for word in words:\n",
    "    letter = word[0]\n",
    "    if letter not in by_letters:\n",
    "        by_letters[letter] = [word]\n",
    "    else:\n",
    "        by_letters[letter].append(word)\n",
    "\n",
    "# another way - using the setdefault dict method\n",
    "for word in words:\n",
    "    letter = word[0]\n",
    "    by_letters.setdefault(letter,[]).append(word)\n",
    "    \n",
    "# one more way using a class from the collections module\n",
    "from collections import defaultdict\n",
    "by_letters = defaultdict(list)\n",
    "for word in words:\n",
    "    by_letters[word[0]].append(word)\n",
    "by_letters\n",
    "\n",
    "# keys must be immutable, so if you have a list, convert it to a tuple first\n",
    "#tracy = {['t','r','a','c','y']} # doesn't work!\n",
    "tracy = {tuple(['t','r','a','c','y'])} \n",
    "tracy\n",
    "\n"
   ]
  },
  {
   "cell_type": "markdown",
   "metadata": {},
   "source": [
    "### Sets and set functions\n",
    "\n",
    "Sets are unique, non-ordered sets of values, denoted by a comma-separated list inside curly braces"
   ]
  },
  {
   "cell_type": "code",
   "execution_count": null,
   "metadata": {},
   "outputs": [],
   "source": [
    "set1 = {1,2,2,2,3}\n",
    "set1\n",
    "set2 = {3,4,4,4,5}\n",
    "set2\n",
    "set1 & set2\n",
    "set1 | set2\n",
    "set1 ^ set2\n",
    "set1 - set2\n",
    "set1.add(4)\n",
    "set1.remove(2)"
   ]
  },
  {
   "cell_type": "markdown",
   "metadata": {},
   "source": [
    "### Comprehensions - filtering and defining lists, sets, dicts in one line"
   ]
  },
  {
   "cell_type": "code",
   "execution_count": null,
   "metadata": {},
   "outputs": [],
   "source": [
    "# example: convert words to uppercase if they are at least 2 letters long\n",
    "# this is a LIST COMPREHENSION because it makes a list\n",
    "words = {'a','as','apple','bee','bat'}\n",
    "lc = [word.upper() for word in words if len(word)>2]\n",
    "lc\n",
    "\n",
    "# let's make a dict comprehension\n",
    "dc = {word[0] : word for word in words if len(word)>2}  # note this doesn't make a list of words as a value, just the latest one\n",
    "dc\n",
    "\n",
    "# set comprehension is like a list comprehension but creates a set\n",
    "words = ['a','as','apple','apple','bee','bat']\n",
    "lc = [word.upper() for word in words if len(word)>2]\n",
    "lc  # this gives you duplicates of APPLE because it's a list\n",
    "sc = {word.upper() for word in words if len(word)>2}\n",
    "sc  # this gives you one APPLE because it's a set\n",
    "\n",
    "# we can go nuts with it...\n",
    "# two lists of names, together in a list\n",
    "names1 = ['tracy','frank']\n",
    "names2 = ['jonas','trey','kit']\n",
    "family = [names1,names2]\n",
    "family\n",
    "# let's make a list of all names with 'r' in them\n",
    "r_names = []\n",
    "for groups in family:\n",
    "    r_people = [name for name in groups if name.count('r')>=1]\n",
    "    r_names.extend(r_people)\n",
    "r_names\n",
    "\n",
    "# a crazy one-liner version!\n",
    "# this says...\n",
    "# for groups in family, for name in groups, if name has an 'r', then it's part of the list\n",
    "\n",
    "r_names = [name for groups in family for name in groups if name.count('r')>=1 ]\n",
    "r_names\n",
    "\n",
    "short_names = [name for groups in family for name in groups if len(name)<5]\n",
    "short_names\n",
    "\n",
    "# you can use this idea to \"flatten\" a list of lists or tuples, eg\n",
    "some_tuples = [(1,2,3),(4,5,6),(7,8,9)]\n",
    "[x for tuple in some_tuples for x in tuple]\n",
    "# just think of it as taking the expanded form of nested for and if statements,\n",
    "# and collapsing them onto a single line\n",
    "\n",
    "# you can also use a comprehension inside a comprehension, eg\n",
    "[[x for x in tuple] for tuple in some_tuples]\n",
    "# this produces a tuple of tuples rather than a flattened tuple of lists as before"
   ]
  },
  {
   "cell_type": "markdown",
   "metadata": {},
   "source": [
    "### functions as objects\n",
    "Treating functions as objects means you can use them as arguments in a couple handy ways"
   ]
  },
  {
   "cell_type": "code",
   "execution_count": null,
   "metadata": {},
   "outputs": [],
   "source": [
    "# say we want to apply a series of cleaning operations to a list of strings (like\n",
    "# user input data)\n",
    "clean_op1 = str.strip # removes whitespace\n",
    "clean_op2 = str.title # capitalizes the first letter and lowercases the rest\n",
    "\n",
    "import re\n",
    "# now we want to build a custom function that removes !, #, and ? from the string\n",
    "def remove_punctuation(value):\n",
    "    return re.sub('[!#?]','',value)\n",
    "\n",
    "clean_op3 = remove_punctuation\n",
    "clean_ops = [clean_op1, clean_op2, clean_op3]\n",
    "\n",
    "# let's write a function that applies a list of cleaning operatinos to a set of strings\n",
    "def clean_strings(strings,ops):\n",
    "    result = []\n",
    "    for value in strings:\n",
    "        for function in ops:\n",
    "            value = function(value)\n",
    "        result.append(value)\n",
    "    return result\n",
    "\n",
    "sample_strings = ['tracy?','  frank!   ','TREY']\n",
    "clean_strings(sample_strings,clean_ops)\n"
   ]
  },
  {
   "cell_type": "markdown",
   "metadata": {},
   "source": [
    "### Lambda (anonymous) functions"
   ]
  },
  {
   "cell_type": "code",
   "execution_count": null,
   "metadata": {},
   "outputs": [],
   "source": [
    "def short_function(x):\n",
    "    return x*2\n",
    "\n",
    "equiv_lambda = lambda x: x*2\n",
    "\n",
    "# you can use these to pass a short function to another function, or to define\n",
    "# a custom sort function, etc\n",
    "\n",
    "# custom sort function - say you wanted to sort a list of strings by the number\n",
    "# of distinct letters in each string\n",
    "# then you want to sort by len(set(list(word)))\n",
    "# you can pass that function to the sort operator:\n",
    "words = ['aaaa','tracy','abc','bbaabbaabbaa']\n",
    "words.sort(key=lambda x:len(set(list(x))))\n",
    "words"
   ]
  },
  {
   "cell_type": "markdown",
   "metadata": {},
   "source": [
    "### Generators create a list one element at a time"
   ]
  },
  {
   "cell_type": "code",
   "execution_count": null,
   "metadata": {},
   "outputs": [],
   "source": [
    "def squares(n=10):\n",
    "    print('Generating squares:')\n",
    "    for i in range(1,n+1):\n",
    "        yield i**2\n",
    "\n",
    "gen = squares()   # this just defines gen but does not call the function\n",
    "\n",
    "# you have to request elements from gen for it to start working, like this:\n",
    "for n in gen:\n",
    "    print(n,end=' ')\n"
   ]
  },
  {
   "cell_type": "code",
   "execution_count": null,
   "metadata": {},
   "outputs": [],
   "source": [
    "# you can also use a generator expression, like:\n",
    "gen = (x**2 for x in range(10))\n",
    "for y in gen:\n",
    "    print(y,' ')\n",
    "\n",
    "sumsquares = sum(i**2 for i in range(10))\n",
    "sumsquares\n",
    "dict((i,i**2) for i in range(1,11))  # constructing a dict by generating a list of 2-tuples"
   ]
  },
  {
   "cell_type": "markdown",
   "metadata": {},
   "source": [
    "### Exception Handling"
   ]
  },
  {
   "cell_type": "code",
   "execution_count": null,
   "metadata": {},
   "outputs": [],
   "source": [
    "# catch exceptions and/or do stuff regardless\n",
    "try:\n",
    "    #the stuff you are going to try\n",
    "    pass\n",
    "except:\n",
    "    #catches any exception. to specify exception types, use a comma separated list\n",
    "    #as in except (Type1, Type2)\n",
    "    pass\n",
    "else:\n",
    "    #what if there were no exceptions? then do this stuff\n",
    "    pass\n",
    "finally:\n",
    "    #regardless, do this stuff\n",
    "    #like closing a file if you've opened it\n",
    "    pass"
   ]
  },
  {
   "cell_type": "markdown",
   "metadata": {},
   "source": [
    "### Files in Python"
   ]
  },
  {
   "cell_type": "code",
   "execution_count": null,
   "metadata": {},
   "outputs": [],
   "source": [
    "# easy to open files, default is read-only\n",
    "# use the 'with' command to ensure the file is closed after being used\n",
    "path = '/dir/to/file.txt'\n",
    "with open(path) as file:\n",
    "    lines = [lines.rstrip() for line in file]\n",
    "# this gives you a list of the lines in the file, with newline removed, and closes the file"
   ]
  },
  {
   "cell_type": "code",
   "execution_count": null,
   "metadata": {},
   "outputs": [],
   "source": [
    "# open(path) - opens file read-only\n",
    "# open(path,'w') - creates a new file for writing at that path\n",
    "# open(path,'x') - creates a new file for writing at that path unless it already exists\n",
    "# open(path,'a') - appends to the file\n",
    "# open(path,'r+') - opens for read/write# file = open(path)\n",
    "# file.read(24) - reads 24 characters or bytes if opened with 'rb'\n",
    "# file.tell() - tells you which byte the file handle is sitting at\n",
    "# file.seek(3) - moves to the 3rd byte in the file\n",
    "# file.close()\n",
    "\n",
    "# use 'write' and 'writelines' to write to a file, eg\n",
    "# with open(outfile) as outfile:\n",
    "#     outfile.writelines(line for lines in open(infile) if len(line)>1)"
   ]
  },
  {
   "cell_type": "markdown",
   "metadata": {},
   "source": [
    "### Chapter 4 - NumPy"
   ]
  },
  {
   "cell_type": "code",
   "execution_count": null,
   "metadata": {},
   "outputs": [],
   "source": [
    "import numpy as np\n",
    "data = np.random.randn(2,3)\n",
    "data * 100\n",
    "data.shape\n",
    "data.dtype"
   ]
  },
  {
   "cell_type": "code",
   "execution_count": null,
   "metadata": {},
   "outputs": [],
   "source": [
    "# you can convert any list type object to an array\n",
    "mylist = [1,2,4,5,3]\n",
    "myarray = np.array(mylist)\n",
    "\n",
    "# a list of lists becomes a multidimensional array\n",
    "mylist2 = [[1,2,3],[4,5,6]]\n",
    "myarray2 = np.array(mylist2)\n",
    "myarray2.shape # 'rows' by 'columns', if you will\n",
    "myarray2.ndim  # how many dimensions?\n",
    "\n",
    "# special functions\n",
    "np.ones(10)\n",
    "np.ones((2,3))\n",
    "np.ones_like(myarray2)\n",
    "np.zeros(4)\n",
    "np.zeros_like(myarray)\n",
    "np.empty((4,3))\n",
    "count_to_100 = np.arange(100)\n",
    "\n",
    "# converting string data representing numbers, to actual numbers:\n",
    "numstring = ['1.2','3.4','5']\n",
    "numarray = np.array(numstring)\n",
    "numarray.dtype\n",
    "floatarray = numarray.astype(float)\n",
    "floatarray.dtype"
   ]
  },
  {
   "cell_type": "code",
   "execution_count": null,
   "metadata": {},
   "outputs": [],
   "source": [
    "# indexing and slicing\n",
    "# slicing is similar to Python list slices except that they are NOT copies,\n",
    "# but rather reference the original. example:\n",
    "arr = np.array([1,2,3,4,5,6,7])\n",
    "arr_slice = arr[2:4]\n",
    "arr_slice[:] = 1\n",
    "arr\n",
    "\n",
    "# you can index and slice in many dimensions at once\n",
    "# note: indices in the form [a][b] are equivalent to [a,b]\n",
    "arr2dim = np.array([[1,2,3],[4,5,6]])\n",
    "arr2dim[1][2] == arr2dim[1,2]"
   ]
  },
  {
   "cell_type": "code",
   "execution_count": null,
   "metadata": {},
   "outputs": [],
   "source": [
    "# you can use boolean arrays to index data\n",
    "names = np.array(['tracy','frank','trey','jonas','kit','tracy'])\n",
    "names == 'tracy'  # generates an array of boolean data; use this as an index\n",
    "data = np.random.randn(6,5)\n",
    "data[names=='tracy']\n",
    "# same as\n",
    "cond = names=='tracy'\n",
    "data[cond]\n",
    "\n",
    "data[data<0] = 0   # using another boolean array as an index\n",
    "data[names == 'tracy',2:]  # combine boolean indices with slices\n",
    "data[names != 'tracy'] = 3  # using nots in boolean expressions\n",
    "# note you cannot use 'and' or 'or' in boolean arrays, you have to use & or |\n",
    "data[(names=='tracy') | (names=='frank')] = 5\n",
    "data"
   ]
  },
  {
   "cell_type": "code",
   "execution_count": null,
   "metadata": {},
   "outputs": [],
   "source": [
    "# fancy indexing\n",
    "# you can grab rows (or columnns) in a specified order by listing them in the order\n",
    "# you want, comma-separated\n",
    "# arr[1,2] means give me the element at arr[1][2]\n",
    "# but arr[[1,2]] means give me the rows 1 and 2\n",
    "# example\n",
    "arr44 = np.empty((4,4))\n",
    "for i in range(4):\n",
    "    arr44[i] = i\n",
    "arr44\n",
    "# to grab the element at arr44[2][1], i can use:\n",
    "arr44[2,1]\n",
    "# or\n",
    "arr44[2][1]\n",
    "# but to grab the rows 2 and 1 in that order, i can use:\n",
    "arr44[[2,1]]\n",
    "# you can do this in multiple dimensions, and it will zip the entries into tuples, eg\n",
    "# to grab the rows 2 and 1, and from them the entries in col 0 and 2 respectively, do:\n",
    "arr44[[2,1],[0,2]]\n",
    "# you can use slices with either index\n",
    "arr44[[2,1],:2]"
   ]
  },
  {
   "cell_type": "code",
   "execution_count": null,
   "metadata": {},
   "outputs": [],
   "source": [
    "# reshape & transpose\n",
    "# each array has a .T which is its transpose\n",
    "arr = np.random.randn(2,5)\n",
    "arr.shape\n",
    "arr.T.shape\n",
    "\n",
    "# .T is swapping axes. there is another function 'swapaxes' you can use to complicate things\n",
    "arr.swapaxes(0,1) # gives you the .T function back\n",
    "\n",
    "# you can swapaxes WHILE doing a transpose with the .transpose function\n",
    "arr3 = np.random.randn(2,3,4) #gives you a 2x3x4\n",
    "arr3\n",
    "arr3.transpose(1,0,2) # gives you a 3x2x4"
   ]
  },
  {
   "cell_type": "markdown",
   "metadata": {},
   "source": [
    "### Universal Functions (ufuncs)"
   ]
  },
  {
   "cell_type": "code",
   "execution_count": null,
   "metadata": {},
   "outputs": [],
   "source": [
    "# optimized functions that work element-wise over an array\n",
    "import numpy as np\n",
    "arr = np.random.randn(2,4)\n",
    "np.sqrt(arr)\n",
    "np.exp(arr)\n",
    "arr2 = np.random.randn(2,4)\n",
    "np.maximum(arr,arr2)\n",
    "remainder,whole = np.modf(arr)\n",
    "# you can add an output argument to enable the function to modify the array in place\n",
    "tracy1 = np.array([1,2,3,4,5],np.float)\n",
    "np.sqrt(tracy1,tracy1)\n",
    "tracy1\n",
    "# other UNARY (operating on one array) functions include: \n",
    "# abs, fabs, square, log, log10, log2, log1p, sign, cell, floor,\n",
    "# rint - round to the nearest int, isnan, isfinite/ininf, cos etc., \n",
    "# arccos etc, logical_not\n",
    "\n",
    "# other BINARY (operating on multiple arrays) functions include:\n",
    "# add, subtract, multiply, divide, floor_divide, power, maximum, fmax, minimum, fmin\n",
    "# mod, copysign, greater, greater_equal, less, less_equal, equal, not_equal,\n",
    "# logica_and, logical_or, logical_xor"
   ]
  },
  {
   "cell_type": "code",
   "execution_count": null,
   "metadata": {},
   "outputs": [],
   "source": [
    "# meshgrid makes a 2D array by taking all combinations of elements from 2 1D arrays\n",
    "list1 = [1,2,3,4,5]\n",
    "list2 = [3,3,3,3,3]\n",
    "x,y = np.meshgrid(list1, list2)\n",
    "z = np.sqrt(x**2+y**2)  # efficient way to evaluate a function\n",
    "z\n",
    "\n",
    "import matplotlib.pyplot as plt\n",
    "%matplotlib inline\n",
    "plt.imshow(z,cmap=plt.cm.gray); plt.colorbar()\n",
    "plt.title(\"Image plot of metric\")\n"
   ]
  },
  {
   "cell_type": "code",
   "execution_count": null,
   "metadata": {},
   "outputs": [],
   "source": [
    "# np.where is an efficient way to use a conditional\n",
    "# equivalent to \"if condition, then x, else y\"\n",
    "\n",
    "arr = np.random.randn(3,3)\n",
    "condition = arr > 0\n",
    "np.where(condition,arr,0)  # if positive, use the value, else assign 0\n",
    "# semantically equivalent to arr[arr<0] = 0 but way more efficient"
   ]
  },
  {
   "cell_type": "code",
   "execution_count": null,
   "metadata": {},
   "outputs": [],
   "source": [
    "# arrays have some aggregator functions like min, max, mean, etc\n",
    "# but so does NumPy itself. you can use either\n",
    "\n",
    "arr = np.random.randn(5,6)\n",
    "arr.mean() == np.mean(arr)\n",
    "arr.max() == np.max(arr)\n",
    "arr.mean(axis=0) == np.mean(arr,axis=0)\n",
    "\n",
    "arr.cumsum() # cumulative sum\n",
    "arr.cumsum(axis=1)\n",
    "arr.cumprod()\n",
    "\n",
    "# sum, mean, std, var, min, max, argmin, argmax, cumsum, cumprod\n",
    "\n",
    "# for boolean arrays, helpful functions include sum, any, and all\n",
    "(arr>0).sum()  # how many values are greater than 0?\n",
    "arr.any()\n",
    "arr.all()\n",
    "\n",
    "# you can sort arrays in place\n",
    "arr.sort()\n",
    "arr\n",
    "arr.sort(axis=1)\n",
    "arr\n",
    "\n",
    "# as before, this overwrites the existing array. using np.sort(arr) would provide\n",
    "# a copy\n",
    "\n",
    "# np.unique(arr) will return the unique values, sorted\n",
    "# equivalent to sorted(set(somelist))\n",
    "\n",
    "# np.inid(givenarray,testvalues) will return a boolean array stating whether, for each\n",
    "# element of givenarray, its value is one of the testvalues"
   ]
  },
  {
   "cell_type": "code",
   "execution_count": null,
   "metadata": {},
   "outputs": [],
   "source": [
    "# reading input and writing output with arrays"
   ]
  },
  {
   "cell_type": "markdown",
   "metadata": {},
   "source": [
    "### Pandas - Chapter 5\n",
    "\n",
    "NumPy is good for numerical data sets.\n",
    "Use Pandas for mixed data sets and for data manipulation."
   ]
  },
  {
   "cell_type": "code",
   "execution_count": null,
   "metadata": {},
   "outputs": [],
   "source": [
    "# pandas has two major data structures, Series and DataFrame\n",
    "# let's look at Series first\n",
    "\n",
    "import pandas as pd\n",
    "from pandas import Series,DataFrame\n",
    "\n",
    "obj = pd.Series([4,7,-5,3])\n",
    "obj.index\n",
    "obj.values\n",
    "\n",
    "obj2 = pd.Series([4,7,-5,3],index=['d','b','a','c'])\n",
    "obj2.index\n",
    "obj2['a']\n",
    "obj2*2\n",
    "'c' in obj2  # checking the indices\n",
    "-5 in obj2   \n",
    "\n",
    "# you can create a Series from a dict\n",
    "casabiancas = {'tracy':42,'frank':47,'trey':10,'jonas':8,'kit':6}\n",
    "casabiancas['tracy']\n",
    "obj3 = pd.Series(casabiancas)\n",
    "obj3\n",
    "\n",
    "kids_only = ['trey','jonas','kit','dog']   # you can specify a subset of your indices\n",
    "                                           # when you create a Series from a dict\n",
    "                                           # even if a given key didn't appear before\n",
    "obj4 = pd.Series(casabiancas,index=kids_only)\n",
    "obj4\n",
    "\n",
    "pd.isnull(obj4)\n",
    "pd.notnull(obj4)\n",
    "#or, another way:\n",
    "obj4.isnull()\n",
    "obj4.notnull()\n",
    "\n",
    "# kinda like a join...\n",
    "obj5 = obj3+obj4\n",
    "obj5  # will add values where they match, and set to NaN if they didn't match\n",
    "\n",
    "# Series have names (for the values column) and index names, eg\n",
    "obj5.name = 'age'\n",
    "obj5.index.name = 'person'\n",
    "obj5\n",
    "\n",
    "# and you can override the index values if you'd like:\n",
    "obj5.index = ['pet','dad','kid2','kid3','mom','kid1']\n",
    "obj5"
   ]
  },
  {
   "cell_type": "code",
   "execution_count": 1,
   "metadata": {},
   "outputs": [
    {
     "data": {
      "text/plain": [
       "True"
      ]
     },
     "execution_count": 1,
     "metadata": {},
     "output_type": "execute_result"
    }
   ],
   "source": [
    "import pandas as pd\n",
    "from pandas import Series, DataFrame\n",
    "\n",
    "# now we'll look at DataFrames\n",
    "# think of these as a dict of Series all sharing a common index\n",
    "# it's basically a spreadsheet of columns which can have different types\n",
    "\n",
    "# one common construction\n",
    "family = {'name':['frank','tracy','trey','jonas','kit'],\n",
    "          'age':[47,42,10,8,6],\n",
    "          'job':['work','work','school','school','school']}\n",
    "frame = pd.DataFrame(family)\n",
    "frame.head(2)\n",
    "# you can rearrange the columns\n",
    "frame2 = pd.DataFrame(family,columns=['name','job','age'])\n",
    "frame2\n",
    "# you can change the index\n",
    "frame3 = pd.DataFrame(family,index=['one','two','three','four','five'])\n",
    "frame3\n",
    "# you can add new columns that will be blank\n",
    "frame4 = pd.DataFrame(family,columns=['name','age','gender'])\n",
    "frame4\n",
    "# you can retrieve columns by [] or by .\n",
    "frame4.age\n",
    "frame4['age']\n",
    "# you can retrieve rows by loc\n",
    "frame4.loc[2]\n",
    "# you can assign values to columns\n",
    "frame4.gender = 'M'\n",
    "frame4\n",
    "\n",
    "# you can add a whole column, and then delete it\n",
    "frame4['lies'] = frame4['age']<40\n",
    "frame4\n",
    "del frame4['lies']\n",
    "frame4\n",
    "\n",
    "frame4.values\n",
    "frame4.columns.name = 'data'   # meta heading on the column headers\n",
    "frame4.index.name = 'number'   # meta heading on the index\n",
    "frame4.T\n",
    "\n",
    "3 in frame4.index\n",
    "'name' in frame4.columns\n",
    "\n",
    "# what can you do with the index? it is an immutable set. you can:\n",
    "# append, difference, intersection, union, isin, delet, drop, insert, is_monotonic,\n",
    "# is_unique, unique"
   ]
  },
  {
   "cell_type": "code",
   "execution_count": 2,
   "metadata": {},
   "outputs": [
    {
     "data": {
      "text/html": [
       "<div>\n",
       "<style scoped>\n",
       "    .dataframe tbody tr th:only-of-type {\n",
       "        vertical-align: middle;\n",
       "    }\n",
       "\n",
       "    .dataframe tbody tr th {\n",
       "        vertical-align: top;\n",
       "    }\n",
       "\n",
       "    .dataframe thead th {\n",
       "        text-align: right;\n",
       "    }\n",
       "</style>\n",
       "<table border=\"1\" class=\"dataframe\">\n",
       "  <thead>\n",
       "    <tr style=\"text-align: right;\">\n",
       "      <th>color</th>\n",
       "      <th>0</th>\n",
       "    </tr>\n",
       "    <tr>\n",
       "      <th>i</th>\n",
       "      <th></th>\n",
       "    </tr>\n",
       "  </thead>\n",
       "  <tbody>\n",
       "    <tr>\n",
       "      <th>0</th>\n",
       "      <td>blue</td>\n",
       "    </tr>\n",
       "    <tr>\n",
       "      <th>1</th>\n",
       "      <td>blue</td>\n",
       "    </tr>\n",
       "    <tr>\n",
       "      <th>2</th>\n",
       "      <td>purple</td>\n",
       "    </tr>\n",
       "    <tr>\n",
       "      <th>3</th>\n",
       "      <td>purple</td>\n",
       "    </tr>\n",
       "    <tr>\n",
       "      <th>4</th>\n",
       "      <td>yellow</td>\n",
       "    </tr>\n",
       "    <tr>\n",
       "      <th>5</th>\n",
       "      <td>yellow</td>\n",
       "    </tr>\n",
       "  </tbody>\n",
       "</table>\n",
       "</div>"
      ],
      "text/plain": [
       "color       0\n",
       "i            \n",
       "0        blue\n",
       "1        blue\n",
       "2      purple\n",
       "3      purple\n",
       "4      yellow\n",
       "5      yellow"
      ]
     },
     "execution_count": 2,
     "metadata": {},
     "output_type": "execute_result"
    }
   ],
   "source": [
    "# manipulating and cleaning data in a DataFrame\n",
    "# you can reindex a df\n",
    "data = pd.Series(['tracy','frank','trey','jonas','kit'],index=[1,3,2,4,5])\n",
    "data2 = data.reindex([1,2,3,4,5,6])\n",
    "data2  # reorders the rows to conform to this index, using NaN for new values\n",
    "\n",
    "data3 = pd.Series(['blue','purple','yellow'],index=[0,2,4])\n",
    "data4 = data3.reindex(range(6),method='ffill')  # forward fills missing values, but\n",
    "                                                # existing index must be monotonic first\n",
    "data4\n",
    "# you can drop rows (the default) or columns (specify axis=1)\n",
    "data5 = data4.drop(2)  # defaults to dropping the row with index = 2\n",
    "data5\n",
    "data5 = pd.DataFrame(data4)\n",
    "data5.index.name = 'i'\n",
    "data5.columns.name = 'color'  # this isn't working as i expect?\n",
    "data5['name'] = 'tracy'       # adding a column to drop\n",
    "data5.drop('name',axis=1)     # dropping a column - need to specify axis=1"
   ]
  },
  {
   "cell_type": "code",
   "execution_count": 3,
   "metadata": {},
   "outputs": [
    {
     "data": {
      "text/html": [
       "<div>\n",
       "<style scoped>\n",
       "    .dataframe tbody tr th:only-of-type {\n",
       "        vertical-align: middle;\n",
       "    }\n",
       "\n",
       "    .dataframe tbody tr th {\n",
       "        vertical-align: top;\n",
       "    }\n",
       "\n",
       "    .dataframe thead th {\n",
       "        text-align: right;\n",
       "    }\n",
       "</style>\n",
       "<table border=\"1\" class=\"dataframe\">\n",
       "  <thead>\n",
       "    <tr style=\"text-align: right;\">\n",
       "      <th></th>\n",
       "      <th>one</th>\n",
       "      <th>two</th>\n",
       "      <th>three</th>\n",
       "      <th>four</th>\n",
       "    </tr>\n",
       "  </thead>\n",
       "  <tbody>\n",
       "    <tr>\n",
       "      <th>Ohio</th>\n",
       "      <td>0</td>\n",
       "      <td>1</td>\n",
       "      <td>2</td>\n",
       "      <td>3</td>\n",
       "    </tr>\n",
       "    <tr>\n",
       "      <th>Maryland</th>\n",
       "      <td>4</td>\n",
       "      <td>5</td>\n",
       "      <td>8</td>\n",
       "      <td>8</td>\n",
       "    </tr>\n",
       "    <tr>\n",
       "      <th>Florida</th>\n",
       "      <td>8</td>\n",
       "      <td>8</td>\n",
       "      <td>8</td>\n",
       "      <td>8</td>\n",
       "    </tr>\n",
       "    <tr>\n",
       "      <th>Texas</th>\n",
       "      <td>8</td>\n",
       "      <td>8</td>\n",
       "      <td>8</td>\n",
       "      <td>8</td>\n",
       "    </tr>\n",
       "  </tbody>\n",
       "</table>\n",
       "</div>"
      ],
      "text/plain": [
       "          one  two  three  four\n",
       "Ohio        0    1      2     3\n",
       "Maryland    4    5      8     8\n",
       "Florida     8    8      8     8\n",
       "Texas       8    8      8     8"
      ]
     },
     "execution_count": 3,
     "metadata": {},
     "output_type": "execute_result"
    }
   ],
   "source": [
    "import numpy as np\n",
    "\n",
    "# slicing with Pandas is a lot like slicing with NumPy\n",
    "obj = pd.Series(np.arange(4.0),index=['a','b','c','d'])\n",
    "obj[1:2]\n",
    "\n",
    "# except you can slice by the label value, too\n",
    "# note slicing with pandas by label is INCLUSIVE:\n",
    "obj['a':'c']\n",
    "\n",
    "data = pd.DataFrame(np.arange(16).reshape(4,4), index=['Ohio','Maryland','Florida','Texas'],columns=['one','two','three','four'])\n",
    "data\n",
    "data[:2]  # row selection\n",
    "data[data['three']>5]\n",
    "data[data>5] = 8\n",
    "data"
   ]
  },
  {
   "cell_type": "code",
   "execution_count": 9,
   "metadata": {},
   "outputs": [
    {
     "data": {
      "text/html": [
       "<div>\n",
       "<style scoped>\n",
       "    .dataframe tbody tr th:only-of-type {\n",
       "        vertical-align: middle;\n",
       "    }\n",
       "\n",
       "    .dataframe tbody tr th {\n",
       "        vertical-align: top;\n",
       "    }\n",
       "\n",
       "    .dataframe thead th {\n",
       "        text-align: right;\n",
       "    }\n",
       "</style>\n",
       "<table border=\"1\" class=\"dataframe\">\n",
       "  <thead>\n",
       "    <tr style=\"text-align: right;\">\n",
       "      <th></th>\n",
       "      <th>Q1</th>\n",
       "      <th>Q2</th>\n",
       "      <th>Q3</th>\n",
       "    </tr>\n",
       "  </thead>\n",
       "  <tbody>\n",
       "    <tr>\n",
       "      <th>1</th>\n",
       "      <td>1.0</td>\n",
       "      <td>1.0</td>\n",
       "      <td>1.0</td>\n",
       "    </tr>\n",
       "    <tr>\n",
       "      <th>2</th>\n",
       "      <td>0.0</td>\n",
       "      <td>2.0</td>\n",
       "      <td>1.0</td>\n",
       "    </tr>\n",
       "    <tr>\n",
       "      <th>3</th>\n",
       "      <td>2.0</td>\n",
       "      <td>2.0</td>\n",
       "      <td>0.0</td>\n",
       "    </tr>\n",
       "    <tr>\n",
       "      <th>4</th>\n",
       "      <td>2.0</td>\n",
       "      <td>0.0</td>\n",
       "      <td>2.0</td>\n",
       "    </tr>\n",
       "    <tr>\n",
       "      <th>5</th>\n",
       "      <td>0.0</td>\n",
       "      <td>0.0</td>\n",
       "      <td>1.0</td>\n",
       "    </tr>\n",
       "  </tbody>\n",
       "</table>\n",
       "</div>"
      ],
      "text/plain": [
       "    Q1   Q2   Q3\n",
       "1  1.0  1.0  1.0\n",
       "2  0.0  2.0  1.0\n",
       "3  2.0  2.0  0.0\n",
       "4  2.0  0.0  2.0\n",
       "5  0.0  0.0  1.0"
      ]
     },
     "execution_count": 9,
     "metadata": {},
     "output_type": "execute_result"
    }
   ],
   "source": [
    "# you can select from a DataFrame using index (iloc) or labels (loc)\n",
    "data.loc['Maryland',['two','three']]\n",
    "data.iloc[1,[1,2]]\n",
    "data.iloc[:,:3]\n",
    "data.loc[:'Florida',:]\n",
    "# you can index this result, too:\n",
    "data.loc[:'Florida',:][data<=5]\n",
    "\n",
    "data2 = pd.DataFrame(np.arange(12).reshape(3,4),index=['Ohio','Colorado','Florida'],columns=['one','two','four','five'])\n",
    "data2+data  # notice what happens when you add\n",
    "            # where there is data in both, it adds\n",
    "            # where one set is missing data, there is no result\n",
    "        \n",
    "# but you can also specify a fill value\n",
    "data3 = data2.add(data,fill_value=0)\n",
    "data3\n",
    "\n",
    "# you can add, subtract, divide, multiply, floor_divide, etc\n",
    "# 1 / data is equivalent to data.rdiv(1)\n",
    "\n",
    "# you can add a Series to a DataFrame. it will add the Series to each of the rows,\n",
    "# adding entries from the column in the DataFrame with a label that matches the label \n",
    "# in the Series. where there aren't matching labels, NaN will be returned.\n",
    "\n",
    "# to add the Series to each of the columns instead where the row labels match the\n",
    "# labels in the Series, you have to use frame.add(series, axis='index')\n",
    "\n",
    "# you can use NumPy's ufuncs (univariate functions / element-wise array methods) on\n",
    "# Pandas structures like np.abs(data)\n",
    "\n",
    "# you can apply functions to Pandas structure with apply: for a defined function f, you\n",
    "# can data.apply(f). eg\n",
    "f = lambda x: x.max() - x.min()\n",
    "data4 = pd.DataFrame(np.random.randn(4,3))\n",
    "data4.apply(f)\n",
    "# notice the function was applied to the columns, and a Series of results was returned\n",
    "# you can apply it to the rows instead using data.apply(f,axis='columns')\n",
    "\n",
    "def func(x):\n",
    "    return pd.Series([x.min(),x.max()],index=['min','max'])\n",
    "\n",
    "data4.apply(func)  # notice you get a Series with multiple values in each element\n",
    "\n",
    "# you can use map for Series and applymap for DataFrames to apply a function to\n",
    "# each element (rather than each row or column). eg to format a string, you could\n",
    "# write a string formatter\n",
    "format = lambda x: '%.2f' % x\n",
    "data4.applymap(format)\n",
    "\n",
    "# you can sort by either index. for rows, data.sort_index(). for columns,\n",
    "# data.sort_index(axis=1)\n",
    "# default is ascending order. to change that:\n",
    "# data.sort_index(axis=1, ascending=False)\n",
    "\n",
    "# you can sort by values - series_data.sort_values()\n",
    "# missing values are sorted to the end\n",
    "# you can sort by values in a particular column - frame_data.sort_values(by='b')\n",
    "\n",
    "# similarly, there is a rank function that lets you rank and assign a rank\n",
    "# by different functions for tie-breakers, like average rank, min rank, max rank,\n",
    "# and first appearance\n",
    "\n",
    "# labels do not need to be unique in Pandas\n",
    "# accessing data by a label that has a duplicate will return a Series of results\n",
    "\n",
    "# summarizing and computing descriptive statistics:\n",
    "data4.mean(axis='columns',skipna=False)  # statistics ignore NaN by default (skipna=True)\n",
    "                                         # note by default, if the whole row or col is\n",
    "                                         # NaN, the answer will be NaN even if skipna=True\n",
    "\n",
    "# descriptive and summary stats include:\n",
    "# count, describe, min, max, argmin, argmax, idxmin, idxmax, quantile, sum,\n",
    "# mean, median, mad, prod, var, std, skew, kurt, cumsum, cummin, cummax, cumprod,\n",
    "# diff, pct_change\n",
    "\n",
    "# Series can do correlation and covariance, as data_series.corr() and data_series.cov()\n",
    "# DataFrame can correlate with Series (looking for matching labels)\n",
    "# default is to correlate DF columns with the Series, but of course you can axis=1\n",
    "\n",
    "# you can data_series.unique() to get unique values; data_series.value_counts() to get\n",
    "# counts of the unique values; check membership with data_series.isin(['val1','val2']) to\n",
    "# return a Series of Booleans\n",
    "\n",
    "# you can also get an index array that checks membership - look up Index.get_indexer\n",
    "# for more information\n",
    "\n",
    "# a clever way to make a histogram\n",
    "data5 = pd.DataFrame({'Q1':[1,3,4,3,4],'Q2':[2,3,1,2,3],'Q3':[1,5,2,4,4]})\n",
    "data5\n",
    "result = data5.apply(pd.value_counts).fillna(0)\n",
    "# this will return the value counts on each of the columns, filling missing data with 0\n",
    "# essentially creating a histogram!\n",
    "result"
   ]
  },
  {
   "cell_type": "markdown",
   "metadata": {},
   "source": [
    "### Chapter 7: Data Cleaning and Preparation"
   ]
  },
  {
   "cell_type": "code",
   "execution_count": 1,
   "metadata": {},
   "outputs": [
    {
     "data": {
      "text/html": [
       "<div>\n",
       "<style scoped>\n",
       "    .dataframe tbody tr th:only-of-type {\n",
       "        vertical-align: middle;\n",
       "    }\n",
       "\n",
       "    .dataframe tbody tr th {\n",
       "        vertical-align: top;\n",
       "    }\n",
       "\n",
       "    .dataframe thead th {\n",
       "        text-align: right;\n",
       "    }\n",
       "</style>\n",
       "<table border=\"1\" class=\"dataframe\">\n",
       "  <thead>\n",
       "    <tr style=\"text-align: right;\">\n",
       "      <th></th>\n",
       "      <th>0</th>\n",
       "      <th>1</th>\n",
       "      <th>2</th>\n",
       "    </tr>\n",
       "  </thead>\n",
       "  <tbody>\n",
       "    <tr>\n",
       "      <th>a</th>\n",
       "      <td>NaN</td>\n",
       "      <td>0.681386</td>\n",
       "      <td>1.071944</td>\n",
       "    </tr>\n",
       "    <tr>\n",
       "      <th>b</th>\n",
       "      <td>NaN</td>\n",
       "      <td>1.816869</td>\n",
       "      <td>1.071944</td>\n",
       "    </tr>\n",
       "    <tr>\n",
       "      <th>c</th>\n",
       "      <td>NaN</td>\n",
       "      <td>1.816869</td>\n",
       "      <td>0.998188</td>\n",
       "    </tr>\n",
       "    <tr>\n",
       "      <th>d</th>\n",
       "      <td>NaN</td>\n",
       "      <td>1.816869</td>\n",
       "      <td>0.998188</td>\n",
       "    </tr>\n",
       "  </tbody>\n",
       "</table>\n",
       "</div>"
      ],
      "text/plain": [
       "    0         1         2\n",
       "a NaN  0.681386  1.071944\n",
       "b NaN  1.816869  1.071944\n",
       "c NaN  1.816869  0.998188\n",
       "d NaN  1.816869  0.998188"
      ]
     },
     "execution_count": 1,
     "metadata": {},
     "output_type": "execute_result"
    }
   ],
   "source": [
    "# Pandas handles missing data as gracefully as possible. Series and DFs can:\n",
    "# dropna - drop rows or columns with missing data; can set a tolerance for how much\n",
    "# fillna - fills in a value or interpolation like 'ffill' or 'bfill'\n",
    "# isnull - Booleans identifying missing data\n",
    "# notnull - opposite of isnull\n",
    "\n",
    "import pandas as pd\n",
    "from pandas import Series,DataFrame\n",
    "import numpy as np\n",
    "\n",
    "tracy = pd.DataFrame(np.random.randn(4,3),index=['a','b','c','d'])\n",
    "tracy2 = tracy[tracy>0]\n",
    "tracy3 = tracy2.dropna()  # drops all rows with an NA\n",
    "tracy4 = tracy2.dropna(how='all')   # drops rows with all NA\n",
    "tracy5 = tracy2.dropna(axis=1)    # drops all columns with an NA\n",
    "tracy6 = tracy2.dropna(axis=1,how='all')  # drops columns with all NA\n",
    "tracy7 = tracy2.dropna(thresh=2)   # drops rows with 2 or more NA\n",
    "#tracy7 = tracy2.fillna(0)\n",
    "tracy2.fillna(0)   # creates a new version filled in, but if you want to memorialize it:\n",
    "#tracy2.fillna(0,inplace=True)\n",
    "tracy2.fillna({1:.1,2:.2})   # sets the fill value by column\n",
    "tracy2.fillna(tracy2.mean())  # sets the fill value to the mean\n",
    "tracy2.fillna(method='ffill')\n",
    "tracy2.fillna(method='ffill',limit=2)"
   ]
  },
  {
   "cell_type": "code",
   "execution_count": 2,
   "metadata": {},
   "outputs": [
    {
     "data": {
      "text/plain": [
       "(3.999, 7.333]     3\n",
       "(7.333, 19.333]    2\n",
       "(19.333, 50.0]     3\n",
       "dtype: int64"
      ]
     },
     "execution_count": 2,
     "metadata": {},
     "output_type": "execute_result"
    }
   ],
   "source": [
    "# data transformation\n",
    "\n",
    "# identifying and removing duplicates\n",
    "tracy = pd.DataFrame({'k1':['one','two']*3 + ['two'],'k2':[1,1,2,3,3,4,4]})\n",
    "tracy[tracy.duplicated()]   # finds the duplicates\n",
    "tracy.drop_duplicates()   # drops the duplicates\n",
    "tracy['v1'] = range(7)\n",
    "tracy.drop_duplicates(['k1','k2'])  # drops duplicates in the specified columns\n",
    "tracy.drop_duplicates(['k1'],keep='last')  # keeps the last one instead of the first one\n",
    "\n",
    "# transforming using a map or function\n",
    "# you can transform data using Python or NumPy functions\n",
    "tracy['k3'] = tracy['k2']+tracy['v1']\n",
    "# you can use .map with a function\n",
    "tracy['v2'] = tracy['k1'].map(lambda x:x.upper())\n",
    "# you can use .map with a map\n",
    "tracy_map = {1:'a',2:'b',3:'f',4:'p'}\n",
    "tracy['q'] = tracy['k2'].map(tracy_map)\n",
    "tracy\n",
    "\n",
    "# replacing data\n",
    "tracy.replace(4,np.nan)\n",
    "tracy.replace([1,2,3,4],np.nan)\n",
    "\n",
    "# you can also map or rename index and column labels\n",
    "tracy.index = tracy.index.map(lambda x:x-1)\n",
    "tracy\n",
    "\n",
    "# binning: you can create bins and count your data!\n",
    "ages = [4, 10, 18, 6, 37, 20, 5, 50]\n",
    "bins = [0,10,18,25,100]\n",
    "ages_by_bin = pd.cut(ages,bins)\n",
    "ages_by_bin\n",
    "ages_by_bin.codes   # gives the code for which bin each age fell into\n",
    "ages_by_bin.categories   # shows you the categories in order alluded to with .codes\n",
    "ages_by_bin.value_counts()  # a handy histogram\n",
    "group_names = ['child','teen','young_adult','adult']\n",
    "ages_by_bin = pd.cut(ages,bins,labels=group_names)\n",
    "ages_by_bin.value_counts()\n",
    "\n",
    "ages_by_bin2 = pd.cut(ages,3)  # cut this data into 3 bins of equal width\n",
    "# note this does not mean bins have same number of entries!!! unless uniformly distro\n",
    "ages_by_bin2.value_counts()\n",
    "\n",
    "ages_by_bin3 = pd.qcut(ages,3)  # cut this data into bins with roughly equal membership\n",
    "ages_by_bin3.value_counts()"
   ]
  },
  {
   "cell_type": "code",
   "execution_count": 3,
   "metadata": {},
   "outputs": [
    {
     "data": {
      "text/html": [
       "<div>\n",
       "<style scoped>\n",
       "    .dataframe tbody tr th:only-of-type {\n",
       "        vertical-align: middle;\n",
       "    }\n",
       "\n",
       "    .dataframe tbody tr th {\n",
       "        vertical-align: top;\n",
       "    }\n",
       "\n",
       "    .dataframe thead th {\n",
       "        text-align: right;\n",
       "    }\n",
       "</style>\n",
       "<table border=\"1\" class=\"dataframe\">\n",
       "  <thead>\n",
       "    <tr style=\"text-align: right;\">\n",
       "      <th></th>\n",
       "      <th>0</th>\n",
       "      <th>1</th>\n",
       "      <th>2</th>\n",
       "      <th>3</th>\n",
       "    </tr>\n",
       "  </thead>\n",
       "  <tbody>\n",
       "    <tr>\n",
       "      <th>count</th>\n",
       "      <td>1000.000000</td>\n",
       "      <td>1000.000000</td>\n",
       "      <td>1000.000000</td>\n",
       "      <td>1000.000000</td>\n",
       "    </tr>\n",
       "    <tr>\n",
       "      <th>mean</th>\n",
       "      <td>0.028605</td>\n",
       "      <td>-0.026657</td>\n",
       "      <td>0.044820</td>\n",
       "      <td>-0.008158</td>\n",
       "    </tr>\n",
       "    <tr>\n",
       "      <th>std</th>\n",
       "      <td>1.009663</td>\n",
       "      <td>0.986713</td>\n",
       "      <td>1.003974</td>\n",
       "      <td>0.987752</td>\n",
       "    </tr>\n",
       "    <tr>\n",
       "      <th>min</th>\n",
       "      <td>-3.000000</td>\n",
       "      <td>-3.000000</td>\n",
       "      <td>-3.000000</td>\n",
       "      <td>-2.886351</td>\n",
       "    </tr>\n",
       "    <tr>\n",
       "      <th>25%</th>\n",
       "      <td>-0.672149</td>\n",
       "      <td>-0.692741</td>\n",
       "      <td>-0.609328</td>\n",
       "      <td>-0.656018</td>\n",
       "    </tr>\n",
       "    <tr>\n",
       "      <th>50%</th>\n",
       "      <td>0.013178</td>\n",
       "      <td>-0.066074</td>\n",
       "      <td>0.056123</td>\n",
       "      <td>-0.022131</td>\n",
       "    </tr>\n",
       "    <tr>\n",
       "      <th>75%</th>\n",
       "      <td>0.701586</td>\n",
       "      <td>0.657008</td>\n",
       "      <td>0.786417</td>\n",
       "      <td>0.664041</td>\n",
       "    </tr>\n",
       "    <tr>\n",
       "      <th>max</th>\n",
       "      <td>3.000000</td>\n",
       "      <td>2.935015</td>\n",
       "      <td>2.677308</td>\n",
       "      <td>3.000000</td>\n",
       "    </tr>\n",
       "  </tbody>\n",
       "</table>\n",
       "</div>"
      ],
      "text/plain": [
       "                 0            1            2            3\n",
       "count  1000.000000  1000.000000  1000.000000  1000.000000\n",
       "mean      0.028605    -0.026657     0.044820    -0.008158\n",
       "std       1.009663     0.986713     1.003974     0.987752\n",
       "min      -3.000000    -3.000000    -3.000000    -2.886351\n",
       "25%      -0.672149    -0.692741    -0.609328    -0.656018\n",
       "50%       0.013178    -0.066074     0.056123    -0.022131\n",
       "75%       0.701586     0.657008     0.786417     0.664041\n",
       "max       3.000000     2.935015     2.677308     3.000000"
      ]
     },
     "execution_count": 3,
     "metadata": {},
     "output_type": "execute_result"
    }
   ],
   "source": [
    "# handling outliers\n",
    "data = pd.DataFrame(np.random.randn(1000,4))\n",
    "data.describe()  # shows you mean, std, min, quantiles, max\n",
    "col = data[2]\n",
    "col[np.abs(col)>3]\n",
    "data[(np.abs(data)>3).any(1)] # return all rows where the abs val of any entry in that\n",
    "                              # row is greater than 3\n",
    "\n",
    "# if you wanted to cap the data, use something like this:\n",
    "data[np.abs(data)>3] = np.sign(data)*3\n",
    "data.describe()"
   ]
  },
  {
   "cell_type": "code",
   "execution_count": 46,
   "metadata": {},
   "outputs": [
    {
     "data": {
      "text/html": [
       "<div>\n",
       "<style scoped>\n",
       "    .dataframe tbody tr th:only-of-type {\n",
       "        vertical-align: middle;\n",
       "    }\n",
       "\n",
       "    .dataframe tbody tr th {\n",
       "        vertical-align: top;\n",
       "    }\n",
       "\n",
       "    .dataframe thead th {\n",
       "        text-align: right;\n",
       "    }\n",
       "</style>\n",
       "<table border=\"1\" class=\"dataframe\">\n",
       "  <thead>\n",
       "    <tr style=\"text-align: right;\">\n",
       "      <th></th>\n",
       "      <th>(0.0, 0.2]</th>\n",
       "      <th>(0.2, 0.4]</th>\n",
       "      <th>(0.4, 0.6]</th>\n",
       "      <th>(0.6, 0.8]</th>\n",
       "      <th>(0.8, 1.0]</th>\n",
       "    </tr>\n",
       "  </thead>\n",
       "  <tbody>\n",
       "    <tr>\n",
       "      <th>0</th>\n",
       "      <td>0</td>\n",
       "      <td>0</td>\n",
       "      <td>0</td>\n",
       "      <td>0</td>\n",
       "      <td>1</td>\n",
       "    </tr>\n",
       "    <tr>\n",
       "      <th>1</th>\n",
       "      <td>0</td>\n",
       "      <td>1</td>\n",
       "      <td>0</td>\n",
       "      <td>0</td>\n",
       "      <td>0</td>\n",
       "    </tr>\n",
       "    <tr>\n",
       "      <th>2</th>\n",
       "      <td>1</td>\n",
       "      <td>0</td>\n",
       "      <td>0</td>\n",
       "      <td>0</td>\n",
       "      <td>0</td>\n",
       "    </tr>\n",
       "    <tr>\n",
       "      <th>3</th>\n",
       "      <td>0</td>\n",
       "      <td>1</td>\n",
       "      <td>0</td>\n",
       "      <td>0</td>\n",
       "      <td>0</td>\n",
       "    </tr>\n",
       "    <tr>\n",
       "      <th>4</th>\n",
       "      <td>0</td>\n",
       "      <td>0</td>\n",
       "      <td>1</td>\n",
       "      <td>0</td>\n",
       "      <td>0</td>\n",
       "    </tr>\n",
       "    <tr>\n",
       "      <th>5</th>\n",
       "      <td>0</td>\n",
       "      <td>0</td>\n",
       "      <td>1</td>\n",
       "      <td>0</td>\n",
       "      <td>0</td>\n",
       "    </tr>\n",
       "    <tr>\n",
       "      <th>6</th>\n",
       "      <td>0</td>\n",
       "      <td>0</td>\n",
       "      <td>0</td>\n",
       "      <td>0</td>\n",
       "      <td>1</td>\n",
       "    </tr>\n",
       "    <tr>\n",
       "      <th>7</th>\n",
       "      <td>0</td>\n",
       "      <td>0</td>\n",
       "      <td>0</td>\n",
       "      <td>1</td>\n",
       "      <td>0</td>\n",
       "    </tr>\n",
       "    <tr>\n",
       "      <th>8</th>\n",
       "      <td>0</td>\n",
       "      <td>0</td>\n",
       "      <td>0</td>\n",
       "      <td>1</td>\n",
       "      <td>0</td>\n",
       "    </tr>\n",
       "    <tr>\n",
       "      <th>9</th>\n",
       "      <td>0</td>\n",
       "      <td>0</td>\n",
       "      <td>0</td>\n",
       "      <td>1</td>\n",
       "      <td>0</td>\n",
       "    </tr>\n",
       "  </tbody>\n",
       "</table>\n",
       "</div>"
      ],
      "text/plain": [
       "   (0.0, 0.2]  (0.2, 0.4]  (0.4, 0.6]  (0.6, 0.8]  (0.8, 1.0]\n",
       "0           0           0           0           0           1\n",
       "1           0           1           0           0           0\n",
       "2           1           0           0           0           0\n",
       "3           0           1           0           0           0\n",
       "4           0           0           1           0           0\n",
       "5           0           0           1           0           0\n",
       "6           0           0           0           0           1\n",
       "7           0           0           0           1           0\n",
       "8           0           0           0           1           0\n",
       "9           0           0           0           1           0"
      ]
     },
     "execution_count": 46,
     "metadata": {},
     "output_type": "execute_result"
    }
   ],
   "source": [
    "# permutation and random sampling\n",
    "df = pd.DataFrame(np.arange(5*4).reshape(5,4))\n",
    "sampler = np.random.permutation(5)  # NumPy provides a permutation function\n",
    "sampler\n",
    "df.take(sampler)          # takes a sample according to the sampler\n",
    "df.iloc[sampler]          # does the same thing, a different way. notice square brackets.\n",
    "\n",
    "df.sample(n=3)            # takes a random subset without replacement\n",
    "df.sample(n=10,replace=True)  # takes a random subset with replacement\n",
    "\n",
    "\n",
    "# one-hot encoding\n",
    "# Pandas offers some built-in functions, but you can also roll-your-own\n",
    "\n",
    "# built-in - use pd.get_dummies\n",
    "df = pd.DataFrame({'key':['b','b','a','c','a','b'],'data1': range(6)})\n",
    "# make a one-hot encoder for this data\n",
    "dummies = pd.get_dummies(df['key'],prefix='val')\n",
    "dummies\n",
    "df2 = df[['data1']].join(dummies)  # joins the integer data with the one-hot data\n",
    "df2\n",
    "\n",
    "# roll-your-own\n",
    "df3 = pd.DataFrame({'fam':['tracy','frank','trey','jonas','kit'],'age':[42,47,10,8,6],'colors':['purple|orange','orange|green','orange|green|red','blue|red|black','pink|purple|baby blue']})\n",
    "# how many unique colors do we have?\n",
    "colors = []\n",
    "for x in df3['colors']:\n",
    "    colors.extend(x.split('|'))\n",
    "uniq_colors = pd.unique(colors)\n",
    "zeros = np.zeros((len(df3),len(uniq_colors)))  # a column for each color\n",
    "dummies = pd.DataFrame(zeros,columns=uniq_colors)  # turn it into a dataframe\n",
    "for i,x in enumerate(df3['colors']):\n",
    "    indices = dummies.columns.get_indexer(x.split('|'))  # figure out which cols you want\n",
    "    dummies.iloc[i,indices] = 1   # set those entries to 1\n",
    "df4 = df3[['fam','age']].join(dummies)\n",
    "df4\n",
    "\n",
    "\n",
    "# you can combine get_dummies with cut to create one-hot vectors with bins\n",
    "np.random.seed(12345)\n",
    "values = np.random.rand(10)\n",
    "bins = [0,0.2,0.4,0.6,0.8,1]\n",
    "pd.get_dummies(pd.cut(values,bins))  # remember this guy?"
   ]
  },
  {
   "cell_type": "code",
   "execution_count": 14,
   "metadata": {},
   "outputs": [
    {
     "name": "stdout",
     "output_type": "stream",
     "text": [
      "<re.Match object; span=(6, 22), match='frank@google.com'>\n",
      "<re.Match object; span=(28, 42), match='trey@gmail.com'>\n",
      "<re.Match object; span=(49, 64), match='jonas@yahoo.com'>\n"
     ]
    },
    {
     "data": {
      "text/plain": [
       "'Frank User: frank, Domain: google, Suffix: com\\nTrey User: trey, Domain: gmail, Suffix: com\\nJonas User: jonas, Domain: yahoo, Suffix: com'"
      ]
     },
     "execution_count": 14,
     "metadata": {},
     "output_type": "execute_result"
    }
   ],
   "source": [
    "# string operations\n",
    "# Python has built-in string operations like .split and .strip\n",
    "# also: count, endswith, startswith, join, index, find, rfind, replace,\n",
    "# strip, rstrip, lstrip, split, lower, upper, casefold, ljust, rjust\n",
    "\n",
    "# for more, using the regex library re\n",
    "import re\n",
    "text = \"Tracy is    the\\tbest!\\n\"\n",
    "text2 = text.split('\\s+')   # this is trying to split on the char sequence \\s+\n",
    "text3 = re.split('\\s+',text)   # this is actually splitting on whitespace\n",
    "\n",
    "# if you are using a regex often, compile it once and reuse\n",
    "regex = re.compile('\\s+')\n",
    "text4 = re.split(regex,text)   # same result but you can reuse this version\n",
    "\n",
    "#regex can do:\n",
    "# findall (including with groups), finditer, match, search, split, sub, subn\n",
    "pattern = r'([A-Z0-9._%+-]+)@([A-Z0-9.-]+)\\.([A-Z]{2,4})'  # the r says don't compile my \\ chars\n",
    "regex = re.compile(pattern, flags=re.IGNORECASE)\n",
    "text = \"\"\"Frank frank@google.com\n",
    "Trey trey@gmail.com\n",
    "Jonas jonas@yahoo.com\"\"\"\n",
    "\n",
    "re.findall(regex,text)\n",
    "\n",
    "for x in re.finditer(regex,text):\n",
    "    print(x)\n",
    "\n",
    "regex.sub(r'User: \\1, Domain: \\2, Suffix: \\3',text)  # substitution using groups"
   ]
  },
  {
   "cell_type": "code",
   "execution_count": 22,
   "metadata": {},
   "outputs": [
    {
     "data": {
      "text/plain": [
       "Frank    (frank, google, com)\n",
       "Trey       (trey, gmail, com)\n",
       "Jonas     (jonas, yahoo, com)\n",
       "dtype: object"
      ]
     },
     "execution_count": 22,
     "metadata": {},
     "output_type": "execute_result"
    }
   ],
   "source": [
    "# Pandas has added string functions that gracefully handle missing data\n",
    "# use these by invoking a Series' .str attribute\n",
    "import pandas as pd\n",
    "\n",
    "data = {'Frank':'frank@google.com','Trey':'trey@gmail.com','Jonas':'jonas@yahoo.com'}\n",
    "data = pd.Series(data)\n",
    "data.str.contains('gmail')\n",
    "data.str.findall(regex)  # using the regex we built in the previous block\n",
    "# notice this returns a list that only has one element\n",
    "# we can extract that one element like:\n",
    "data.str.findall(regex).str[0]\n",
    "\n",
    "# using .str, you can:\n",
    "# cat, contains, count, extract, endswith, startswith, findall, get, isalnum\n",
    "# isalpha, isdecimal, isdigit, islower, isnumeric, isupper, join, len, lower, upper,\n",
    "# match, extract, pad, center, repeat, replace, slice, split, strip, rstrip, lstrip"
   ]
  },
  {
   "cell_type": "code",
   "execution_count": null,
   "metadata": {},
   "outputs": [],
   "source": [
    "\n"
   ]
  }
 ],
 "metadata": {
  "kernelspec": {
   "display_name": "Python 3",
   "language": "python",
   "name": "python3"
  },
  "language_info": {
   "codemirror_mode": {
    "name": "ipython",
    "version": 3
   },
   "file_extension": ".py",
   "mimetype": "text/x-python",
   "name": "python",
   "nbconvert_exporter": "python",
   "pygments_lexer": "ipython3",
   "version": "3.7.3"
  }
 },
 "nbformat": 4,
 "nbformat_minor": 2
}
